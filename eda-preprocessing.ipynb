{
 "cells": [
  {
   "cell_type": "markdown",
   "metadata": {},
   "source": [
    "# Generation Data"
   ]
  },
  {
   "cell_type": "code",
   "execution_count": 1,
   "metadata": {},
   "outputs": [],
   "source": [
    "import pandas as pd\n",
    "import numpy as np\n",
    "import matplotlib.pyplot as plt\n",
    "import seaborn as sns\n",
    "import warnings\n",
    "warnings.simplefilter(action='ignore', category=FutureWarning)"
   ]
  },
  {
   "cell_type": "code",
   "execution_count": 2,
   "metadata": {},
   "outputs": [],
   "source": [
    "dfg = pd.read_excel('./data/annual_generation_state.xls')"
   ]
  },
  {
   "cell_type": "code",
   "execution_count": 3,
   "metadata": {},
   "outputs": [],
   "source": [
    "# Resetting column headings\n",
    "dfg.columns = dfg.iloc[0]\n",
    "dfg.drop([0], inplace = True)"
   ]
  },
  {
   "cell_type": "code",
   "execution_count": 4,
   "metadata": {},
   "outputs": [
    {
     "data": {
      "text/html": [
       "<div>\n",
       "<style scoped>\n",
       "    .dataframe tbody tr th:only-of-type {\n",
       "        vertical-align: middle;\n",
       "    }\n",
       "\n",
       "    .dataframe tbody tr th {\n",
       "        vertical-align: top;\n",
       "    }\n",
       "\n",
       "    .dataframe thead th {\n",
       "        text-align: right;\n",
       "    }\n",
       "</style>\n",
       "<table border=\"1\" class=\"dataframe\">\n",
       "  <thead>\n",
       "    <tr style=\"text-align: right;\">\n",
       "      <th></th>\n",
       "      <th>YEAR</th>\n",
       "      <th>STATE</th>\n",
       "      <th>TYPE OF PRODUCER</th>\n",
       "      <th>ENERGY SOURCE</th>\n",
       "      <th>GENERATION (Megawatthours)</th>\n",
       "    </tr>\n",
       "  </thead>\n",
       "  <tbody>\n",
       "    <tr>\n",
       "      <td>1</td>\n",
       "      <td>1990</td>\n",
       "      <td>AK</td>\n",
       "      <td>Total Electric Power Industry</td>\n",
       "      <td>Total</td>\n",
       "      <td>5599506</td>\n",
       "    </tr>\n",
       "    <tr>\n",
       "      <td>2</td>\n",
       "      <td>1990</td>\n",
       "      <td>AK</td>\n",
       "      <td>Total Electric Power Industry</td>\n",
       "      <td>Coal</td>\n",
       "      <td>510573</td>\n",
       "    </tr>\n",
       "    <tr>\n",
       "      <td>3</td>\n",
       "      <td>1990</td>\n",
       "      <td>AK</td>\n",
       "      <td>Total Electric Power Industry</td>\n",
       "      <td>Hydroelectric Conventional</td>\n",
       "      <td>974521</td>\n",
       "    </tr>\n",
       "    <tr>\n",
       "      <td>4</td>\n",
       "      <td>1990</td>\n",
       "      <td>AK</td>\n",
       "      <td>Total Electric Power Industry</td>\n",
       "      <td>Natural Gas</td>\n",
       "      <td>3466261</td>\n",
       "    </tr>\n",
       "    <tr>\n",
       "      <td>5</td>\n",
       "      <td>1990</td>\n",
       "      <td>AK</td>\n",
       "      <td>Total Electric Power Industry</td>\n",
       "      <td>Petroleum</td>\n",
       "      <td>497116</td>\n",
       "    </tr>\n",
       "  </tbody>\n",
       "</table>\n",
       "</div>"
      ],
      "text/plain": [
       "0  YEAR STATE               TYPE OF PRODUCER               ENERGY SOURCE  \\\n",
       "1  1990    AK  Total Electric Power Industry                       Total   \n",
       "2  1990    AK  Total Electric Power Industry                        Coal   \n",
       "3  1990    AK  Total Electric Power Industry  Hydroelectric Conventional   \n",
       "4  1990    AK  Total Electric Power Industry                 Natural Gas   \n",
       "5  1990    AK  Total Electric Power Industry                   Petroleum   \n",
       "\n",
       "0 GENERATION (Megawatthours)  \n",
       "1                    5599506  \n",
       "2                     510573  \n",
       "3                     974521  \n",
       "4                    3466261  \n",
       "5                     497116  "
      ]
     },
     "execution_count": 4,
     "metadata": {},
     "output_type": "execute_result"
    }
   ],
   "source": [
    "dfg.head()"
   ]
  },
  {
   "cell_type": "markdown",
   "metadata": {},
   "source": [
    "## Generation Data Cleaning and EDA"
   ]
  },
  {
   "cell_type": "markdown",
   "metadata": {},
   "source": [
    "Energy Information Administration data is quite complete:"
   ]
  },
  {
   "cell_type": "code",
   "execution_count": 5,
   "metadata": {
    "scrolled": true
   },
   "outputs": [
    {
     "data": {
      "text/plain": [
       "0\n",
       "YEAR                          0\n",
       "STATE                         0\n",
       "TYPE OF PRODUCER              0\n",
       "ENERGY SOURCE                 0\n",
       "GENERATION (Megawatthours)    0\n",
       "dtype: int64"
      ]
     },
     "execution_count": 5,
     "metadata": {},
     "output_type": "execute_result"
    }
   ],
   "source": [
    "dfg.isnull().sum()"
   ]
  },
  {
   "cell_type": "code",
   "execution_count": 6,
   "metadata": {
    "scrolled": true
   },
   "outputs": [
    {
     "data": {
      "text/plain": [
       "(51633, 5)"
      ]
     },
     "execution_count": 6,
     "metadata": {},
     "output_type": "execute_result"
    }
   ],
   "source": [
    "dfg.shape"
   ]
  },
  {
   "cell_type": "markdown",
   "metadata": {},
   "source": [
    "All-caps column names will be difficult to work with, so here we rename:"
   ]
  },
  {
   "cell_type": "code",
   "execution_count": 7,
   "metadata": {},
   "outputs": [],
   "source": [
    "column_rename = {\"YEAR\": \"Year\", \n",
    "                 \"STATE\": \"State\", \n",
    "                 \"TYPE OF PRODUCER\": \"Producer Type\",\n",
    "                 \"ENERGY SOURCE\": \"Source\", \n",
    "                 \"GENERATION (Megawatthours)\": \"Gen MWh\"}\n",
    "\n",
    "dfg.rename(columns=column_rename, inplace=True)"
   ]
  },
  {
   "cell_type": "markdown",
   "metadata": {},
   "source": [
    "However not all our data types are as expected. \"Year\" and \"GENERATION (Megawatthours)\" are expected to be numeric but they are not. We will convert both these columns to int."
   ]
  },
  {
   "cell_type": "code",
   "execution_count": 8,
   "metadata": {
    "scrolled": false
   },
   "outputs": [
    {
     "data": {
      "text/plain": [
       "0\n",
       "Year             object\n",
       "State            object\n",
       "Producer Type    object\n",
       "Source           object\n",
       "Gen MWh          object\n",
       "dtype: object"
      ]
     },
     "execution_count": 8,
     "metadata": {},
     "output_type": "execute_result"
    }
   ],
   "source": [
    "dfg.dtypes"
   ]
  },
  {
   "cell_type": "code",
   "execution_count": 9,
   "metadata": {},
   "outputs": [],
   "source": [
    "dfg['Gen MWh'] = dfg['Gen MWh'].astype(int)\n",
    "dfg['Year'] = dfg['Year'].astype(int)"
   ]
  },
  {
   "cell_type": "markdown",
   "metadata": {},
   "source": [
    "We have 29 years of data, 1990 to 2018, just like our rates data:"
   ]
  },
  {
   "cell_type": "code",
   "execution_count": 10,
   "metadata": {
    "scrolled": true
   },
   "outputs": [
    {
     "data": {
      "text/plain": [
       "array([1990, 1991, 1992, 1993, 1994, 1995, 1996, 1997, 1998, 1999, 2000,\n",
       "       2001, 2002, 2003, 2004, 2005, 2006, 2007, 2008, 2009, 2010, 2011,\n",
       "       2012, 2013, 2014, 2015, 2016, 2017, 2018])"
      ]
     },
     "execution_count": 10,
     "metadata": {},
     "output_type": "execute_result"
    }
   ],
   "source": [
    "dfg['Year'].unique()"
   ]
  },
  {
   "cell_type": "markdown",
   "metadata": {},
   "source": [
    "We have 14 different generation sources (including the Total, which we will explore [below](#1.2.2)."
   ]
  },
  {
   "cell_type": "code",
   "execution_count": 11,
   "metadata": {},
   "outputs": [
    {
     "data": {
      "text/plain": [
       "array(['Total', 'Coal', 'Hydroelectric Conventional', 'Natural Gas',\n",
       "       'Petroleum', 'Wind', 'Wood and Wood Derived Fuels', 'Nuclear',\n",
       "       'Other Biomass', 'Other Gases', 'Pumped Storage', 'Geothermal',\n",
       "       'Other', 'Solar Thermal and Photovoltaic'], dtype=object)"
      ]
     },
     "execution_count": 11,
     "metadata": {},
     "output_type": "execute_result"
    }
   ],
   "source": [
    "dfg['Source'].unique()"
   ]
  },
  {
   "cell_type": "markdown",
   "metadata": {},
   "source": [
    "### State Categories"
   ]
  },
  {
   "cell_type": "markdown",
   "metadata": {},
   "source": [
    "There are 54 State categories, which is unexpected and worth investigation:"
   ]
  },
  {
   "cell_type": "code",
   "execution_count": 12,
   "metadata": {
    "scrolled": true
   },
   "outputs": [
    {
     "data": {
      "text/plain": [
       "54"
      ]
     },
     "execution_count": 12,
     "metadata": {},
     "output_type": "execute_result"
    }
   ],
   "source": [
    "dfg['State'].nunique()"
   ]
  },
  {
   "cell_type": "markdown",
   "metadata": {},
   "source": [
    "Beyond the 50 states plus DC, we have some blanks (' '), and two total US categories, \"US-TOTAL\" and \"US-Total\":"
   ]
  },
  {
   "cell_type": "code",
   "execution_count": 13,
   "metadata": {
    "scrolled": true
   },
   "outputs": [
    {
     "data": {
      "text/plain": [
       "array(['AK', 'AL', 'AR', 'AZ', 'CA', 'CO', 'CT', 'DC', 'DE', 'FL', 'GA',\n",
       "       'HI', 'IA', 'ID', 'IL', 'IN', 'KS', 'KY', 'LA', 'MA', 'MD', 'ME',\n",
       "       'MI', 'MN', 'MO', 'MS', 'MT', 'NC', 'ND', 'NE', 'NH', 'NJ', 'NM',\n",
       "       'NV', 'NY', 'OH', 'OK', 'OR', 'PA', 'RI', 'SC', 'SD', 'TN', 'TX',\n",
       "       'US-TOTAL', 'UT', 'VA', 'VT', 'WA', 'WI', 'WV', 'WY', '  ',\n",
       "       'US-Total'], dtype=object)"
      ]
     },
     "execution_count": 13,
     "metadata": {},
     "output_type": "execute_result"
    }
   ],
   "source": [
    "dfg['State'].unique()"
   ]
  },
  {
   "cell_type": "markdown",
   "metadata": {},
   "source": [
    "All three blank State items represent 0 MWh of generation, which is not meaningful data. We lose nothing by dropping these rows."
   ]
  },
  {
   "cell_type": "code",
   "execution_count": 14,
   "metadata": {},
   "outputs": [
    {
     "data": {
      "text/html": [
       "<div>\n",
       "<style scoped>\n",
       "    .dataframe tbody tr th:only-of-type {\n",
       "        vertical-align: middle;\n",
       "    }\n",
       "\n",
       "    .dataframe tbody tr th {\n",
       "        vertical-align: top;\n",
       "    }\n",
       "\n",
       "    .dataframe thead th {\n",
       "        text-align: right;\n",
       "    }\n",
       "</style>\n",
       "<table border=\"1\" class=\"dataframe\">\n",
       "  <thead>\n",
       "    <tr style=\"text-align: right;\">\n",
       "      <th></th>\n",
       "      <th>Year</th>\n",
       "      <th>State</th>\n",
       "      <th>Producer Type</th>\n",
       "      <th>Source</th>\n",
       "      <th>Gen MWh</th>\n",
       "    </tr>\n",
       "  </thead>\n",
       "  <tbody>\n",
       "    <tr>\n",
       "      <td>20577</td>\n",
       "      <td>2003</td>\n",
       "      <td></td>\n",
       "      <td>Total Electric Power Industry</td>\n",
       "      <td>Coal</td>\n",
       "      <td>0</td>\n",
       "    </tr>\n",
       "    <tr>\n",
       "      <td>20578</td>\n",
       "      <td>2003</td>\n",
       "      <td></td>\n",
       "      <td>Total Electric Power Industry</td>\n",
       "      <td>Natural Gas</td>\n",
       "      <td>0</td>\n",
       "    </tr>\n",
       "    <tr>\n",
       "      <td>20579</td>\n",
       "      <td>2003</td>\n",
       "      <td></td>\n",
       "      <td>Total Electric Power Industry</td>\n",
       "      <td>Petroleum</td>\n",
       "      <td>0</td>\n",
       "    </tr>\n",
       "  </tbody>\n",
       "</table>\n",
       "</div>"
      ],
      "text/plain": [
       "0      Year State                  Producer Type       Source  Gen MWh\n",
       "20577  2003        Total Electric Power Industry         Coal        0\n",
       "20578  2003        Total Electric Power Industry  Natural Gas        0\n",
       "20579  2003        Total Electric Power Industry    Petroleum        0"
      ]
     },
     "execution_count": 14,
     "metadata": {},
     "output_type": "execute_result"
    }
   ],
   "source": [
    "dfg.loc[dfg['State'] == \"  \"]"
   ]
  },
  {
   "cell_type": "code",
   "execution_count": 15,
   "metadata": {},
   "outputs": [],
   "source": [
    "dfg = dfg[dfg['State'] != \"  \"]"
   ]
  },
  {
   "cell_type": "markdown",
   "metadata": {},
   "source": [
    "We should also drop the US-TOTAL / US-Total data. We are not modeling the entire country, so the state data are all we need."
   ]
  },
  {
   "cell_type": "code",
   "execution_count": 16,
   "metadata": {},
   "outputs": [],
   "source": [
    "dfg = dfg[dfg['State'] != \"US-TOTAL\"]\n",
    "dfg = dfg[dfg['State'] != \"US-Total\"]"
   ]
  },
  {
   "cell_type": "markdown",
   "metadata": {},
   "source": [
    "## Preprocessing"
   ]
  },
  {
   "cell_type": "markdown",
   "metadata": {},
   "source": [
    "We saw above that we have almost 50,000 rows. What we are interested in is 51 states, 29 years, and the 14 different types of electricity generation. So we expect to need a **maximum** row count of: \n",
    "\n",
    "$51 * 29 * 14 = 20706$ \n",
    "\n",
    "In this section we will confirm that the extra rows are not needed, and remove them."
   ]
  },
  {
   "cell_type": "markdown",
   "metadata": {},
   "source": [
    "### Producer Type: Total Electric Power Industry"
   ]
  },
  {
   "cell_type": "markdown",
   "metadata": {},
   "source": [
    "The data contains a range of Producer Types for each combination of Year, State, and Source of generation:"
   ]
  },
  {
   "cell_type": "code",
   "execution_count": 17,
   "metadata": {},
   "outputs": [
    {
     "data": {
      "text/plain": [
       "array(['Total Electric Power Industry',\n",
       "       'Electric Generators, Electric Utilities',\n",
       "       'Combined Heat and Power, Industrial Power',\n",
       "       'Combined Heat and Power, Commercial Power',\n",
       "       'Electric Generators, Independent Power Producers',\n",
       "       'Combined Heat and Power, Electric Power'], dtype=object)"
      ]
     },
     "execution_count": 17,
     "metadata": {},
     "output_type": "execute_result"
    }
   ],
   "source": [
    "dfg['Producer Type'].unique()"
   ]
  },
  {
   "cell_type": "markdown",
   "metadata": {},
   "source": [
    "This can be most easily understood by looking at the 20 rows of data data for the state of Alaska in the year 1990:"
   ]
  },
  {
   "cell_type": "code",
   "execution_count": 18,
   "metadata": {},
   "outputs": [
    {
     "data": {
      "text/html": [
       "<div>\n",
       "<style scoped>\n",
       "    .dataframe tbody tr th:only-of-type {\n",
       "        vertical-align: middle;\n",
       "    }\n",
       "\n",
       "    .dataframe tbody tr th {\n",
       "        vertical-align: top;\n",
       "    }\n",
       "\n",
       "    .dataframe thead th {\n",
       "        text-align: right;\n",
       "    }\n",
       "</style>\n",
       "<table border=\"1\" class=\"dataframe\">\n",
       "  <thead>\n",
       "    <tr style=\"text-align: right;\">\n",
       "      <th></th>\n",
       "      <th>Year</th>\n",
       "      <th>State</th>\n",
       "      <th>Producer Type</th>\n",
       "      <th>Source</th>\n",
       "      <th>Gen MWh</th>\n",
       "    </tr>\n",
       "  </thead>\n",
       "  <tbody>\n",
       "    <tr>\n",
       "      <td>1</td>\n",
       "      <td>1990</td>\n",
       "      <td>AK</td>\n",
       "      <td>Total Electric Power Industry</td>\n",
       "      <td>Total</td>\n",
       "      <td>5599506</td>\n",
       "    </tr>\n",
       "    <tr>\n",
       "      <td>2</td>\n",
       "      <td>1990</td>\n",
       "      <td>AK</td>\n",
       "      <td>Total Electric Power Industry</td>\n",
       "      <td>Coal</td>\n",
       "      <td>510573</td>\n",
       "    </tr>\n",
       "    <tr>\n",
       "      <td>3</td>\n",
       "      <td>1990</td>\n",
       "      <td>AK</td>\n",
       "      <td>Total Electric Power Industry</td>\n",
       "      <td>Hydroelectric Conventional</td>\n",
       "      <td>974521</td>\n",
       "    </tr>\n",
       "    <tr>\n",
       "      <td>4</td>\n",
       "      <td>1990</td>\n",
       "      <td>AK</td>\n",
       "      <td>Total Electric Power Industry</td>\n",
       "      <td>Natural Gas</td>\n",
       "      <td>3466261</td>\n",
       "    </tr>\n",
       "    <tr>\n",
       "      <td>5</td>\n",
       "      <td>1990</td>\n",
       "      <td>AK</td>\n",
       "      <td>Total Electric Power Industry</td>\n",
       "      <td>Petroleum</td>\n",
       "      <td>497116</td>\n",
       "    </tr>\n",
       "    <tr>\n",
       "      <td>6</td>\n",
       "      <td>1990</td>\n",
       "      <td>AK</td>\n",
       "      <td>Total Electric Power Industry</td>\n",
       "      <td>Wind</td>\n",
       "      <td>0</td>\n",
       "    </tr>\n",
       "    <tr>\n",
       "      <td>7</td>\n",
       "      <td>1990</td>\n",
       "      <td>AK</td>\n",
       "      <td>Total Electric Power Industry</td>\n",
       "      <td>Wood and Wood Derived Fuels</td>\n",
       "      <td>151035</td>\n",
       "    </tr>\n",
       "    <tr>\n",
       "      <td>8</td>\n",
       "      <td>1990</td>\n",
       "      <td>AK</td>\n",
       "      <td>Electric Generators, Electric Utilities</td>\n",
       "      <td>Total</td>\n",
       "      <td>4493024</td>\n",
       "    </tr>\n",
       "    <tr>\n",
       "      <td>9</td>\n",
       "      <td>1990</td>\n",
       "      <td>AK</td>\n",
       "      <td>Electric Generators, Electric Utilities</td>\n",
       "      <td>Coal</td>\n",
       "      <td>311960</td>\n",
       "    </tr>\n",
       "    <tr>\n",
       "      <td>10</td>\n",
       "      <td>1990</td>\n",
       "      <td>AK</td>\n",
       "      <td>Electric Generators, Electric Utilities</td>\n",
       "      <td>Hydroelectric Conventional</td>\n",
       "      <td>974521</td>\n",
       "    </tr>\n",
       "    <tr>\n",
       "      <td>11</td>\n",
       "      <td>1990</td>\n",
       "      <td>AK</td>\n",
       "      <td>Electric Generators, Electric Utilities</td>\n",
       "      <td>Natural Gas</td>\n",
       "      <td>2869638</td>\n",
       "    </tr>\n",
       "    <tr>\n",
       "      <td>12</td>\n",
       "      <td>1990</td>\n",
       "      <td>AK</td>\n",
       "      <td>Electric Generators, Electric Utilities</td>\n",
       "      <td>Petroleum</td>\n",
       "      <td>336905</td>\n",
       "    </tr>\n",
       "    <tr>\n",
       "      <td>13</td>\n",
       "      <td>1990</td>\n",
       "      <td>AK</td>\n",
       "      <td>Electric Generators, Electric Utilities</td>\n",
       "      <td>Wind</td>\n",
       "      <td>0</td>\n",
       "    </tr>\n",
       "    <tr>\n",
       "      <td>14</td>\n",
       "      <td>1990</td>\n",
       "      <td>AK</td>\n",
       "      <td>Combined Heat and Power, Industrial Power</td>\n",
       "      <td>Total</td>\n",
       "      <td>840949</td>\n",
       "    </tr>\n",
       "    <tr>\n",
       "      <td>15</td>\n",
       "      <td>1990</td>\n",
       "      <td>AK</td>\n",
       "      <td>Combined Heat and Power, Industrial Power</td>\n",
       "      <td>Natural Gas</td>\n",
       "      <td>596623</td>\n",
       "    </tr>\n",
       "    <tr>\n",
       "      <td>16</td>\n",
       "      <td>1990</td>\n",
       "      <td>AK</td>\n",
       "      <td>Combined Heat and Power, Industrial Power</td>\n",
       "      <td>Petroleum</td>\n",
       "      <td>93291</td>\n",
       "    </tr>\n",
       "    <tr>\n",
       "      <td>17</td>\n",
       "      <td>1990</td>\n",
       "      <td>AK</td>\n",
       "      <td>Combined Heat and Power, Industrial Power</td>\n",
       "      <td>Wood and Wood Derived Fuels</td>\n",
       "      <td>151035</td>\n",
       "    </tr>\n",
       "    <tr>\n",
       "      <td>18</td>\n",
       "      <td>1990</td>\n",
       "      <td>AK</td>\n",
       "      <td>Combined Heat and Power, Commercial Power</td>\n",
       "      <td>Total</td>\n",
       "      <td>265533</td>\n",
       "    </tr>\n",
       "    <tr>\n",
       "      <td>19</td>\n",
       "      <td>1990</td>\n",
       "      <td>AK</td>\n",
       "      <td>Combined Heat and Power, Commercial Power</td>\n",
       "      <td>Coal</td>\n",
       "      <td>198613</td>\n",
       "    </tr>\n",
       "    <tr>\n",
       "      <td>20</td>\n",
       "      <td>1990</td>\n",
       "      <td>AK</td>\n",
       "      <td>Combined Heat and Power, Commercial Power</td>\n",
       "      <td>Petroleum</td>\n",
       "      <td>66920</td>\n",
       "    </tr>\n",
       "  </tbody>\n",
       "</table>\n",
       "</div>"
      ],
      "text/plain": [
       "0   Year State                              Producer Type  \\\n",
       "1   1990    AK              Total Electric Power Industry   \n",
       "2   1990    AK              Total Electric Power Industry   \n",
       "3   1990    AK              Total Electric Power Industry   \n",
       "4   1990    AK              Total Electric Power Industry   \n",
       "5   1990    AK              Total Electric Power Industry   \n",
       "6   1990    AK              Total Electric Power Industry   \n",
       "7   1990    AK              Total Electric Power Industry   \n",
       "8   1990    AK    Electric Generators, Electric Utilities   \n",
       "9   1990    AK    Electric Generators, Electric Utilities   \n",
       "10  1990    AK    Electric Generators, Electric Utilities   \n",
       "11  1990    AK    Electric Generators, Electric Utilities   \n",
       "12  1990    AK    Electric Generators, Electric Utilities   \n",
       "13  1990    AK    Electric Generators, Electric Utilities   \n",
       "14  1990    AK  Combined Heat and Power, Industrial Power   \n",
       "15  1990    AK  Combined Heat and Power, Industrial Power   \n",
       "16  1990    AK  Combined Heat and Power, Industrial Power   \n",
       "17  1990    AK  Combined Heat and Power, Industrial Power   \n",
       "18  1990    AK  Combined Heat and Power, Commercial Power   \n",
       "19  1990    AK  Combined Heat and Power, Commercial Power   \n",
       "20  1990    AK  Combined Heat and Power, Commercial Power   \n",
       "\n",
       "0                        Source  Gen MWh  \n",
       "1                         Total  5599506  \n",
       "2                          Coal   510573  \n",
       "3    Hydroelectric Conventional   974521  \n",
       "4                   Natural Gas  3466261  \n",
       "5                     Petroleum   497116  \n",
       "6                          Wind        0  \n",
       "7   Wood and Wood Derived Fuels   151035  \n",
       "8                         Total  4493024  \n",
       "9                          Coal   311960  \n",
       "10   Hydroelectric Conventional   974521  \n",
       "11                  Natural Gas  2869638  \n",
       "12                    Petroleum   336905  \n",
       "13                         Wind        0  \n",
       "14                        Total   840949  \n",
       "15                  Natural Gas   596623  \n",
       "16                    Petroleum    93291  \n",
       "17  Wood and Wood Derived Fuels   151035  \n",
       "18                        Total   265533  \n",
       "19                         Coal   198613  \n",
       "20                    Petroleum    66920  "
      ]
     },
     "execution_count": 18,
     "metadata": {},
     "output_type": "execute_result"
    }
   ],
   "source": [
    "dfg.head(20)"
   ]
  },
  {
   "cell_type": "markdown",
   "metadata": {},
   "source": [
    "We are not interested in the various producer types - only the \"Total Electric Power Industry\" for each Year/State. \n",
    "\n",
    "It certainly _appears_ that if we sum up the Gen MWh for each Source in rows 8 - 20, they will equal \"Total Electric Power Industry\" rows 1-7. \n",
    "\n",
    "But that is a rather risky assumption to make for almost 50,000 rows of data. So here we confirm this is true:"
   ]
  },
  {
   "cell_type": "code",
   "execution_count": 19,
   "metadata": {},
   "outputs": [],
   "source": [
    "# This function will return a pivot table object and the multiindex as a list.\n",
    "# We will use these to create a \"Calculated Total\" column to compare with the given \"Total\" column.\n",
    "def year_state_pivot(data, index, columns):\n",
    "    return pd.pivot_table(data=data, index=index, columns=columns, fill_value=0), list(pd.pivot_table(data=data, index=index, columns=columns, fill_value=0).columns)"
   ]
  },
  {
   "cell_type": "code",
   "execution_count": 20,
   "metadata": {},
   "outputs": [],
   "source": [
    "dfg_pivot, dfg_pivot_cols = year_state_pivot(dfg, ['Year', 'State', 'Source'], 'Producer Type')"
   ]
  },
  {
   "cell_type": "markdown",
   "metadata": {},
   "source": [
    "Now we will create a \"Calculated Total\" column, which we can compare with \"Total Electric Power Industry\" numbers:"
   ]
  },
  {
   "cell_type": "code",
   "execution_count": 21,
   "metadata": {},
   "outputs": [],
   "source": [
    "dfg_pivot[('Gen MWh', 'Calculated Total')] = sum([dfg_pivot[dfg_pivot_cols[i]] for i in range(0,5)])"
   ]
  },
  {
   "cell_type": "code",
   "execution_count": 22,
   "metadata": {
    "scrolled": false
   },
   "outputs": [
    {
     "data": {
      "text/html": [
       "<div>\n",
       "<style scoped>\n",
       "    .dataframe tbody tr th:only-of-type {\n",
       "        vertical-align: middle;\n",
       "    }\n",
       "\n",
       "    .dataframe tbody tr th {\n",
       "        vertical-align: top;\n",
       "    }\n",
       "\n",
       "    .dataframe thead tr th {\n",
       "        text-align: left;\n",
       "    }\n",
       "\n",
       "    .dataframe thead tr:last-of-type th {\n",
       "        text-align: right;\n",
       "    }\n",
       "</style>\n",
       "<table border=\"1\" class=\"dataframe\">\n",
       "  <thead>\n",
       "    <tr>\n",
       "      <th></th>\n",
       "      <th></th>\n",
       "      <th></th>\n",
       "      <th colspan=\"7\" halign=\"left\">Gen MWh</th>\n",
       "    </tr>\n",
       "    <tr>\n",
       "      <th></th>\n",
       "      <th></th>\n",
       "      <th>Producer Type</th>\n",
       "      <th>Combined Heat and Power, Commercial Power</th>\n",
       "      <th>Combined Heat and Power, Electric Power</th>\n",
       "      <th>Combined Heat and Power, Industrial Power</th>\n",
       "      <th>Electric Generators, Electric Utilities</th>\n",
       "      <th>Electric Generators, Independent Power Producers</th>\n",
       "      <th>Total Electric Power Industry</th>\n",
       "      <th>Calculated Total</th>\n",
       "    </tr>\n",
       "    <tr>\n",
       "      <th>Year</th>\n",
       "      <th>State</th>\n",
       "      <th>Source</th>\n",
       "      <th></th>\n",
       "      <th></th>\n",
       "      <th></th>\n",
       "      <th></th>\n",
       "      <th></th>\n",
       "      <th></th>\n",
       "      <th></th>\n",
       "    </tr>\n",
       "  </thead>\n",
       "  <tbody>\n",
       "    <tr>\n",
       "      <td rowspan=\"5\" valign=\"top\">1990</td>\n",
       "      <td rowspan=\"5\" valign=\"top\">AK</td>\n",
       "      <td>Coal</td>\n",
       "      <td>198613</td>\n",
       "      <td>0</td>\n",
       "      <td>0</td>\n",
       "      <td>311960</td>\n",
       "      <td>0</td>\n",
       "      <td>510573</td>\n",
       "      <td>510573</td>\n",
       "    </tr>\n",
       "    <tr>\n",
       "      <td>Hydroelectric Conventional</td>\n",
       "      <td>0</td>\n",
       "      <td>0</td>\n",
       "      <td>0</td>\n",
       "      <td>974521</td>\n",
       "      <td>0</td>\n",
       "      <td>974521</td>\n",
       "      <td>974521</td>\n",
       "    </tr>\n",
       "    <tr>\n",
       "      <td>Natural Gas</td>\n",
       "      <td>0</td>\n",
       "      <td>0</td>\n",
       "      <td>596623</td>\n",
       "      <td>2869638</td>\n",
       "      <td>0</td>\n",
       "      <td>3466261</td>\n",
       "      <td>3466261</td>\n",
       "    </tr>\n",
       "    <tr>\n",
       "      <td>Petroleum</td>\n",
       "      <td>66920</td>\n",
       "      <td>0</td>\n",
       "      <td>93291</td>\n",
       "      <td>336905</td>\n",
       "      <td>0</td>\n",
       "      <td>497116</td>\n",
       "      <td>497116</td>\n",
       "    </tr>\n",
       "    <tr>\n",
       "      <td>Total</td>\n",
       "      <td>265533</td>\n",
       "      <td>0</td>\n",
       "      <td>840949</td>\n",
       "      <td>4493024</td>\n",
       "      <td>0</td>\n",
       "      <td>5599506</td>\n",
       "      <td>5599506</td>\n",
       "    </tr>\n",
       "  </tbody>\n",
       "</table>\n",
       "</div>"
      ],
      "text/plain": [
       "0                                                                       Gen MWh  \\\n",
       "Producer Type                         Combined Heat and Power, Commercial Power   \n",
       "Year State Source                                                                 \n",
       "1990 AK    Coal                                                          198613   \n",
       "           Hydroelectric Conventional                                         0   \n",
       "           Natural Gas                                                        0   \n",
       "           Petroleum                                                      66920   \n",
       "           Total                                                         265533   \n",
       "\n",
       "0                                                                              \\\n",
       "Producer Type                         Combined Heat and Power, Electric Power   \n",
       "Year State Source                                                               \n",
       "1990 AK    Coal                                                             0   \n",
       "           Hydroelectric Conventional                                       0   \n",
       "           Natural Gas                                                      0   \n",
       "           Petroleum                                                        0   \n",
       "           Total                                                            0   \n",
       "\n",
       "0                                                                                \\\n",
       "Producer Type                         Combined Heat and Power, Industrial Power   \n",
       "Year State Source                                                                 \n",
       "1990 AK    Coal                                                               0   \n",
       "           Hydroelectric Conventional                                         0   \n",
       "           Natural Gas                                                   596623   \n",
       "           Petroleum                                                      93291   \n",
       "           Total                                                         840949   \n",
       "\n",
       "0                                                                              \\\n",
       "Producer Type                         Electric Generators, Electric Utilities   \n",
       "Year State Source                                                               \n",
       "1990 AK    Coal                                                        311960   \n",
       "           Hydroelectric Conventional                                  974521   \n",
       "           Natural Gas                                                2869638   \n",
       "           Petroleum                                                   336905   \n",
       "           Total                                                      4493024   \n",
       "\n",
       "0                                                                                       \\\n",
       "Producer Type                         Electric Generators, Independent Power Producers   \n",
       "Year State Source                                                                        \n",
       "1990 AK    Coal                                                                      0   \n",
       "           Hydroelectric Conventional                                                0   \n",
       "           Natural Gas                                                               0   \n",
       "           Petroleum                                                                 0   \n",
       "           Total                                                                     0   \n",
       "\n",
       "0                                                                    \\\n",
       "Producer Type                         Total Electric Power Industry   \n",
       "Year State Source                                                     \n",
       "1990 AK    Coal                                              510573   \n",
       "           Hydroelectric Conventional                        974521   \n",
       "           Natural Gas                                      3466261   \n",
       "           Petroleum                                         497116   \n",
       "           Total                                            5599506   \n",
       "\n",
       "0                                                       \n",
       "Producer Type                         Calculated Total  \n",
       "Year State Source                                       \n",
       "1990 AK    Coal                                 510573  \n",
       "           Hydroelectric Conventional           974521  \n",
       "           Natural Gas                         3466261  \n",
       "           Petroleum                            497116  \n",
       "           Total                               5599506  "
      ]
     },
     "execution_count": 22,
     "metadata": {},
     "output_type": "execute_result"
    }
   ],
   "source": [
    "# We can see the \"Total Electric Power Industry\" and \"Calculated Total\" columns side by side,\n",
    "# and based on the first few rows, they look promising.\n",
    "dfg_pivot.head()"
   ]
  },
  {
   "cell_type": "markdown",
   "metadata": {},
   "source": [
    "In the cell below, we compare our \"Calculated Total\" column with the \"Total Electric Power Industry\" column. By subtracting, taking the absolute value, and counting True/False values, we can see if the generation totals are as we expect. \n",
    "\n",
    "We allow a threshold of 10 to account for rounding errors. Out of values that range from the thousands into the millions, this is insignificant:"
   ]
  },
  {
   "cell_type": "code",
   "execution_count": 23,
   "metadata": {},
   "outputs": [
    {
     "data": {
      "text/plain": [
       "True    13809\n",
       "dtype: int64"
      ]
     },
     "execution_count": 23,
     "metadata": {},
     "output_type": "execute_result"
    }
   ],
   "source": [
    "(abs(dfg_pivot[('Gen MWh', 'Calculated Total')] - dfg_pivot[('Gen MWh', 'Total Electric Power Industry')]) <= 10).value_counts()"
   ]
  },
  {
   "cell_type": "markdown",
   "metadata": {},
   "source": [
    "We have confirmed that the rows where Producer Type is \"Total Electric Power Industry\" contain all important information in the other \"Producer Type\" rows. Here, we will drop all \"Producer Type\" rows that do not represent \"Total Electric Power Industry\"."
   ]
  },
  {
   "cell_type": "code",
   "execution_count": 24,
   "metadata": {},
   "outputs": [],
   "source": [
    "dfg = dfg[dfg['Producer Type'] == 'Total Electric Power Industry']"
   ]
  },
  {
   "cell_type": "code",
   "execution_count": 25,
   "metadata": {
    "scrolled": true
   },
   "outputs": [
    {
     "data": {
      "text/plain": [
       "(13809, 5)"
      ]
     },
     "execution_count": 25,
     "metadata": {},
     "output_type": "execute_result"
    }
   ],
   "source": [
    "dfg.shape"
   ]
  },
  {
   "cell_type": "markdown",
   "metadata": {},
   "source": [
    "### Source: Total"
   ]
  },
  {
   "cell_type": "markdown",
   "metadata": {},
   "source": [
    "We are also interested in the various generation sources. Let's use the function created above to confirm that each \"Total\" row is equal to the sum of the various generation sources. Again, we can use the data from 1990 for Alaska to demonstrate the expected relationship.\n",
    "\n",
    "Below, the \"Gen MWh\" values for Coal, Hydroelectric, Natural Gas, etc. _appear_ to add up to the \"Total\" row:"
   ]
  },
  {
   "cell_type": "code",
   "execution_count": 26,
   "metadata": {},
   "outputs": [
    {
     "data": {
      "text/html": [
       "<div>\n",
       "<style scoped>\n",
       "    .dataframe tbody tr th:only-of-type {\n",
       "        vertical-align: middle;\n",
       "    }\n",
       "\n",
       "    .dataframe tbody tr th {\n",
       "        vertical-align: top;\n",
       "    }\n",
       "\n",
       "    .dataframe thead th {\n",
       "        text-align: right;\n",
       "    }\n",
       "</style>\n",
       "<table border=\"1\" class=\"dataframe\">\n",
       "  <thead>\n",
       "    <tr style=\"text-align: right;\">\n",
       "      <th></th>\n",
       "      <th>Year</th>\n",
       "      <th>State</th>\n",
       "      <th>Producer Type</th>\n",
       "      <th>Source</th>\n",
       "      <th>Gen MWh</th>\n",
       "    </tr>\n",
       "  </thead>\n",
       "  <tbody>\n",
       "    <tr>\n",
       "      <td>1</td>\n",
       "      <td>1990</td>\n",
       "      <td>AK</td>\n",
       "      <td>Total Electric Power Industry</td>\n",
       "      <td>Total</td>\n",
       "      <td>5599506</td>\n",
       "    </tr>\n",
       "    <tr>\n",
       "      <td>2</td>\n",
       "      <td>1990</td>\n",
       "      <td>AK</td>\n",
       "      <td>Total Electric Power Industry</td>\n",
       "      <td>Coal</td>\n",
       "      <td>510573</td>\n",
       "    </tr>\n",
       "    <tr>\n",
       "      <td>3</td>\n",
       "      <td>1990</td>\n",
       "      <td>AK</td>\n",
       "      <td>Total Electric Power Industry</td>\n",
       "      <td>Hydroelectric Conventional</td>\n",
       "      <td>974521</td>\n",
       "    </tr>\n",
       "    <tr>\n",
       "      <td>4</td>\n",
       "      <td>1990</td>\n",
       "      <td>AK</td>\n",
       "      <td>Total Electric Power Industry</td>\n",
       "      <td>Natural Gas</td>\n",
       "      <td>3466261</td>\n",
       "    </tr>\n",
       "    <tr>\n",
       "      <td>5</td>\n",
       "      <td>1990</td>\n",
       "      <td>AK</td>\n",
       "      <td>Total Electric Power Industry</td>\n",
       "      <td>Petroleum</td>\n",
       "      <td>497116</td>\n",
       "    </tr>\n",
       "    <tr>\n",
       "      <td>6</td>\n",
       "      <td>1990</td>\n",
       "      <td>AK</td>\n",
       "      <td>Total Electric Power Industry</td>\n",
       "      <td>Wind</td>\n",
       "      <td>0</td>\n",
       "    </tr>\n",
       "    <tr>\n",
       "      <td>7</td>\n",
       "      <td>1990</td>\n",
       "      <td>AK</td>\n",
       "      <td>Total Electric Power Industry</td>\n",
       "      <td>Wood and Wood Derived Fuels</td>\n",
       "      <td>151035</td>\n",
       "    </tr>\n",
       "  </tbody>\n",
       "</table>\n",
       "</div>"
      ],
      "text/plain": [
       "0  Year State                  Producer Type                       Source  \\\n",
       "1  1990    AK  Total Electric Power Industry                        Total   \n",
       "2  1990    AK  Total Electric Power Industry                         Coal   \n",
       "3  1990    AK  Total Electric Power Industry   Hydroelectric Conventional   \n",
       "4  1990    AK  Total Electric Power Industry                  Natural Gas   \n",
       "5  1990    AK  Total Electric Power Industry                    Petroleum   \n",
       "6  1990    AK  Total Electric Power Industry                         Wind   \n",
       "7  1990    AK  Total Electric Power Industry  Wood and Wood Derived Fuels   \n",
       "\n",
       "0  Gen MWh  \n",
       "1  5599506  \n",
       "2   510573  \n",
       "3   974521  \n",
       "4  3466261  \n",
       "5   497116  \n",
       "6        0  \n",
       "7   151035  "
      ]
     },
     "execution_count": 26,
     "metadata": {},
     "output_type": "execute_result"
    }
   ],
   "source": [
    "dfg.head(7)"
   ]
  },
  {
   "cell_type": "markdown",
   "metadata": {},
   "source": [
    "We will use the function created in section 1.2.1 again:"
   ]
  },
  {
   "cell_type": "code",
   "execution_count": 27,
   "metadata": {
    "scrolled": true
   },
   "outputs": [],
   "source": [
    "dfg_pivot, dfg_pivot_cols = year_state_pivot(dfg, ['Year', 'State'], 'Source')"
   ]
  },
  {
   "cell_type": "code",
   "execution_count": 28,
   "metadata": {},
   "outputs": [],
   "source": [
    "# Moving \"Total\" to the end for readability\n",
    "dfg_pivot = dfg_pivot[dfg_pivot.columns.set_levels(['Coal', \n",
    "                                        'Geothermal',\n",
    "                                        'Hydroelectric Conventional',\n",
    "                                        'Natural Gas',\n",
    "                                        'Nuclear',\n",
    "                                        'Other',\n",
    "                                        'Other Biomass',\n",
    "                                        'Other Gases',\n",
    "                                        'Petroleum',\n",
    "                                        'Pumped Storage',\n",
    "                                        'Solar Thermal and Photovoltaic',\n",
    "                                        'Wind',\n",
    "                                        'Wood and Wood Derived Fuels',\n",
    "                                        'Total'],\n",
    "                                        level=1)]"
   ]
  },
  {
   "cell_type": "code",
   "execution_count": 29,
   "metadata": {},
   "outputs": [
    {
     "data": {
      "text/html": [
       "<div>\n",
       "<style scoped>\n",
       "    .dataframe tbody tr th:only-of-type {\n",
       "        vertical-align: middle;\n",
       "    }\n",
       "\n",
       "    .dataframe tbody tr th {\n",
       "        vertical-align: top;\n",
       "    }\n",
       "\n",
       "    .dataframe thead tr th {\n",
       "        text-align: left;\n",
       "    }\n",
       "\n",
       "    .dataframe thead tr:last-of-type th {\n",
       "        text-align: right;\n",
       "    }\n",
       "</style>\n",
       "<table border=\"1\" class=\"dataframe\">\n",
       "  <thead>\n",
       "    <tr>\n",
       "      <th></th>\n",
       "      <th></th>\n",
       "      <th colspan=\"14\" halign=\"left\">Gen MWh</th>\n",
       "    </tr>\n",
       "    <tr>\n",
       "      <th></th>\n",
       "      <th>Source</th>\n",
       "      <th>Coal</th>\n",
       "      <th>Geothermal</th>\n",
       "      <th>Hydroelectric Conventional</th>\n",
       "      <th>Natural Gas</th>\n",
       "      <th>Nuclear</th>\n",
       "      <th>Other</th>\n",
       "      <th>Other Biomass</th>\n",
       "      <th>Other Gases</th>\n",
       "      <th>Petroleum</th>\n",
       "      <th>Pumped Storage</th>\n",
       "      <th>Solar Thermal and Photovoltaic</th>\n",
       "      <th>Wind</th>\n",
       "      <th>Wood and Wood Derived Fuels</th>\n",
       "      <th>Total</th>\n",
       "    </tr>\n",
       "    <tr>\n",
       "      <th>Year</th>\n",
       "      <th>State</th>\n",
       "      <th></th>\n",
       "      <th></th>\n",
       "      <th></th>\n",
       "      <th></th>\n",
       "      <th></th>\n",
       "      <th></th>\n",
       "      <th></th>\n",
       "      <th></th>\n",
       "      <th></th>\n",
       "      <th></th>\n",
       "      <th></th>\n",
       "      <th></th>\n",
       "      <th></th>\n",
       "      <th></th>\n",
       "    </tr>\n",
       "  </thead>\n",
       "  <tbody>\n",
       "    <tr>\n",
       "      <td rowspan=\"5\" valign=\"top\">1990</td>\n",
       "      <td>AK</td>\n",
       "      <td>510573</td>\n",
       "      <td>0</td>\n",
       "      <td>974521</td>\n",
       "      <td>3466261</td>\n",
       "      <td>0</td>\n",
       "      <td>0</td>\n",
       "      <td>0</td>\n",
       "      <td>0</td>\n",
       "      <td>497116</td>\n",
       "      <td>0</td>\n",
       "      <td>0</td>\n",
       "      <td>0</td>\n",
       "      <td>151035</td>\n",
       "      <td>5599506</td>\n",
       "    </tr>\n",
       "    <tr>\n",
       "      <td>AL</td>\n",
       "      <td>53658115</td>\n",
       "      <td>0</td>\n",
       "      <td>10366507</td>\n",
       "      <td>1020714</td>\n",
       "      <td>12051882</td>\n",
       "      <td>0</td>\n",
       "      <td>47503</td>\n",
       "      <td>269476</td>\n",
       "      <td>138089</td>\n",
       "      <td>0</td>\n",
       "      <td>0</td>\n",
       "      <td>0</td>\n",
       "      <td>2099847</td>\n",
       "      <td>79652133</td>\n",
       "    </tr>\n",
       "    <tr>\n",
       "      <td>AR</td>\n",
       "      <td>19207935</td>\n",
       "      <td>0</td>\n",
       "      <td>3654653</td>\n",
       "      <td>3578573</td>\n",
       "      <td>11282053</td>\n",
       "      <td>0</td>\n",
       "      <td>15389</td>\n",
       "      <td>0</td>\n",
       "      <td>79979</td>\n",
       "      <td>42972</td>\n",
       "      <td>0</td>\n",
       "      <td>0</td>\n",
       "      <td>1238044</td>\n",
       "      <td>39099598</td>\n",
       "    </tr>\n",
       "    <tr>\n",
       "      <td>AZ</td>\n",
       "      <td>31915610</td>\n",
       "      <td>0</td>\n",
       "      <td>7417576</td>\n",
       "      <td>2333900</td>\n",
       "      <td>20597689</td>\n",
       "      <td>0</td>\n",
       "      <td>0</td>\n",
       "      <td>0</td>\n",
       "      <td>151867</td>\n",
       "      <td>249767</td>\n",
       "      <td>0</td>\n",
       "      <td>0</td>\n",
       "      <td>107888</td>\n",
       "      <td>62774297</td>\n",
       "    </tr>\n",
       "    <tr>\n",
       "      <td>CA</td>\n",
       "      <td>2637677</td>\n",
       "      <td>14521254</td>\n",
       "      <td>23792567</td>\n",
       "      <td>74168308</td>\n",
       "      <td>32692807</td>\n",
       "      <td>0</td>\n",
       "      <td>2117915</td>\n",
       "      <td>2146742</td>\n",
       "      <td>5473852</td>\n",
       "      <td>986252</td>\n",
       "      <td>366668</td>\n",
       "      <td>2758881</td>\n",
       "      <td>4121986</td>\n",
       "      <td>165784909</td>\n",
       "    </tr>\n",
       "  </tbody>\n",
       "</table>\n",
       "</div>"
      ],
      "text/plain": [
       "0            Gen MWh                                                    \\\n",
       "Source          Coal Geothermal Hydroelectric Conventional Natural Gas   \n",
       "Year State                                                               \n",
       "1990 AK       510573          0                     974521     3466261   \n",
       "     AL     53658115          0                   10366507     1020714   \n",
       "     AR     19207935          0                    3654653     3578573   \n",
       "     AZ     31915610          0                    7417576     2333900   \n",
       "     CA      2637677   14521254                   23792567    74168308   \n",
       "\n",
       "0                                                                              \\\n",
       "Source       Nuclear Other Other Biomass Other Gases Petroleum Pumped Storage   \n",
       "Year State                                                                      \n",
       "1990 AK            0     0             0           0    497116              0   \n",
       "     AL     12051882     0         47503      269476    138089              0   \n",
       "     AR     11282053     0         15389           0     79979          42972   \n",
       "     AZ     20597689     0             0           0    151867         249767   \n",
       "     CA     32692807     0       2117915     2146742   5473852         986252   \n",
       "\n",
       "0                                                   \\\n",
       "Source     Solar Thermal and Photovoltaic     Wind   \n",
       "Year State                                           \n",
       "1990 AK                                 0        0   \n",
       "     AL                                 0        0   \n",
       "     AR                                 0        0   \n",
       "     AZ                                 0        0   \n",
       "     CA                            366668  2758881   \n",
       "\n",
       "0                                                  \n",
       "Source     Wood and Wood Derived Fuels      Total  \n",
       "Year State                                         \n",
       "1990 AK                         151035    5599506  \n",
       "     AL                        2099847   79652133  \n",
       "     AR                        1238044   39099598  \n",
       "     AZ                         107888   62774297  \n",
       "     CA                        4121986  165784909  "
      ]
     },
     "execution_count": 29,
     "metadata": {},
     "output_type": "execute_result"
    }
   ],
   "source": [
    "dfg_pivot.head()"
   ]
  },
  {
   "cell_type": "code",
   "execution_count": 30,
   "metadata": {},
   "outputs": [],
   "source": [
    "# Since we reordered our columns we need to reset our multiindex list object:\n",
    "dfg_pivot_cols = list(dfg_pivot.columns)"
   ]
  },
  {
   "cell_type": "code",
   "execution_count": 31,
   "metadata": {},
   "outputs": [],
   "source": [
    "dfg_pivot[('Gen MWh', 'Calculated Total')] = sum([dfg_pivot[dfg_pivot_cols[i]] for i in range(0,13)])"
   ]
  },
  {
   "cell_type": "code",
   "execution_count": 32,
   "metadata": {},
   "outputs": [
    {
     "data": {
      "text/html": [
       "<div>\n",
       "<style scoped>\n",
       "    .dataframe tbody tr th:only-of-type {\n",
       "        vertical-align: middle;\n",
       "    }\n",
       "\n",
       "    .dataframe tbody tr th {\n",
       "        vertical-align: top;\n",
       "    }\n",
       "\n",
       "    .dataframe thead tr th {\n",
       "        text-align: left;\n",
       "    }\n",
       "\n",
       "    .dataframe thead tr:last-of-type th {\n",
       "        text-align: right;\n",
       "    }\n",
       "</style>\n",
       "<table border=\"1\" class=\"dataframe\">\n",
       "  <thead>\n",
       "    <tr>\n",
       "      <th></th>\n",
       "      <th></th>\n",
       "      <th colspan=\"15\" halign=\"left\">Gen MWh</th>\n",
       "    </tr>\n",
       "    <tr>\n",
       "      <th></th>\n",
       "      <th>Source</th>\n",
       "      <th>Coal</th>\n",
       "      <th>Geothermal</th>\n",
       "      <th>Hydroelectric Conventional</th>\n",
       "      <th>Natural Gas</th>\n",
       "      <th>Nuclear</th>\n",
       "      <th>Other</th>\n",
       "      <th>Other Biomass</th>\n",
       "      <th>Other Gases</th>\n",
       "      <th>Petroleum</th>\n",
       "      <th>Pumped Storage</th>\n",
       "      <th>Solar Thermal and Photovoltaic</th>\n",
       "      <th>Wind</th>\n",
       "      <th>Wood and Wood Derived Fuels</th>\n",
       "      <th>Total</th>\n",
       "      <th>Calculated Total</th>\n",
       "    </tr>\n",
       "    <tr>\n",
       "      <th>Year</th>\n",
       "      <th>State</th>\n",
       "      <th></th>\n",
       "      <th></th>\n",
       "      <th></th>\n",
       "      <th></th>\n",
       "      <th></th>\n",
       "      <th></th>\n",
       "      <th></th>\n",
       "      <th></th>\n",
       "      <th></th>\n",
       "      <th></th>\n",
       "      <th></th>\n",
       "      <th></th>\n",
       "      <th></th>\n",
       "      <th></th>\n",
       "      <th></th>\n",
       "    </tr>\n",
       "  </thead>\n",
       "  <tbody>\n",
       "    <tr>\n",
       "      <td rowspan=\"5\" valign=\"top\">1990</td>\n",
       "      <td>AK</td>\n",
       "      <td>510573</td>\n",
       "      <td>0</td>\n",
       "      <td>974521</td>\n",
       "      <td>3466261</td>\n",
       "      <td>0</td>\n",
       "      <td>0</td>\n",
       "      <td>0</td>\n",
       "      <td>0</td>\n",
       "      <td>497116</td>\n",
       "      <td>0</td>\n",
       "      <td>0</td>\n",
       "      <td>0</td>\n",
       "      <td>151035</td>\n",
       "      <td>5599506</td>\n",
       "      <td>5599506</td>\n",
       "    </tr>\n",
       "    <tr>\n",
       "      <td>AL</td>\n",
       "      <td>53658115</td>\n",
       "      <td>0</td>\n",
       "      <td>10366507</td>\n",
       "      <td>1020714</td>\n",
       "      <td>12051882</td>\n",
       "      <td>0</td>\n",
       "      <td>47503</td>\n",
       "      <td>269476</td>\n",
       "      <td>138089</td>\n",
       "      <td>0</td>\n",
       "      <td>0</td>\n",
       "      <td>0</td>\n",
       "      <td>2099847</td>\n",
       "      <td>79652133</td>\n",
       "      <td>79652133</td>\n",
       "    </tr>\n",
       "    <tr>\n",
       "      <td>AR</td>\n",
       "      <td>19207935</td>\n",
       "      <td>0</td>\n",
       "      <td>3654653</td>\n",
       "      <td>3578573</td>\n",
       "      <td>11282053</td>\n",
       "      <td>0</td>\n",
       "      <td>15389</td>\n",
       "      <td>0</td>\n",
       "      <td>79979</td>\n",
       "      <td>42972</td>\n",
       "      <td>0</td>\n",
       "      <td>0</td>\n",
       "      <td>1238044</td>\n",
       "      <td>39099598</td>\n",
       "      <td>39099598</td>\n",
       "    </tr>\n",
       "    <tr>\n",
       "      <td>AZ</td>\n",
       "      <td>31915610</td>\n",
       "      <td>0</td>\n",
       "      <td>7417576</td>\n",
       "      <td>2333900</td>\n",
       "      <td>20597689</td>\n",
       "      <td>0</td>\n",
       "      <td>0</td>\n",
       "      <td>0</td>\n",
       "      <td>151867</td>\n",
       "      <td>249767</td>\n",
       "      <td>0</td>\n",
       "      <td>0</td>\n",
       "      <td>107888</td>\n",
       "      <td>62774297</td>\n",
       "      <td>62774297</td>\n",
       "    </tr>\n",
       "    <tr>\n",
       "      <td>CA</td>\n",
       "      <td>2637677</td>\n",
       "      <td>14521254</td>\n",
       "      <td>23792567</td>\n",
       "      <td>74168308</td>\n",
       "      <td>32692807</td>\n",
       "      <td>0</td>\n",
       "      <td>2117915</td>\n",
       "      <td>2146742</td>\n",
       "      <td>5473852</td>\n",
       "      <td>986252</td>\n",
       "      <td>366668</td>\n",
       "      <td>2758881</td>\n",
       "      <td>4121986</td>\n",
       "      <td>165784909</td>\n",
       "      <td>165784909</td>\n",
       "    </tr>\n",
       "  </tbody>\n",
       "</table>\n",
       "</div>"
      ],
      "text/plain": [
       "0            Gen MWh                                                    \\\n",
       "Source          Coal Geothermal Hydroelectric Conventional Natural Gas   \n",
       "Year State                                                               \n",
       "1990 AK       510573          0                     974521     3466261   \n",
       "     AL     53658115          0                   10366507     1020714   \n",
       "     AR     19207935          0                    3654653     3578573   \n",
       "     AZ     31915610          0                    7417576     2333900   \n",
       "     CA      2637677   14521254                   23792567    74168308   \n",
       "\n",
       "0                                                                              \\\n",
       "Source       Nuclear Other Other Biomass Other Gases Petroleum Pumped Storage   \n",
       "Year State                                                                      \n",
       "1990 AK            0     0             0           0    497116              0   \n",
       "     AL     12051882     0         47503      269476    138089              0   \n",
       "     AR     11282053     0         15389           0     79979          42972   \n",
       "     AZ     20597689     0             0           0    151867         249767   \n",
       "     CA     32692807     0       2117915     2146742   5473852         986252   \n",
       "\n",
       "0                                                   \\\n",
       "Source     Solar Thermal and Photovoltaic     Wind   \n",
       "Year State                                           \n",
       "1990 AK                                 0        0   \n",
       "     AL                                 0        0   \n",
       "     AR                                 0        0   \n",
       "     AZ                                 0        0   \n",
       "     CA                            366668  2758881   \n",
       "\n",
       "0                                                                   \n",
       "Source     Wood and Wood Derived Fuels      Total Calculated Total  \n",
       "Year State                                                          \n",
       "1990 AK                         151035    5599506          5599506  \n",
       "     AL                        2099847   79652133         79652133  \n",
       "     AR                        1238044   39099598         39099598  \n",
       "     AZ                         107888   62774297         62774297  \n",
       "     CA                        4121986  165784909        165784909  "
      ]
     },
     "execution_count": 32,
     "metadata": {},
     "output_type": "execute_result"
    }
   ],
   "source": [
    "dfg_pivot.head()"
   ]
  },
  {
   "cell_type": "markdown",
   "metadata": {},
   "source": [
    "We before we compare our Calculated Total with the existing total, with a rounding error tolerance of 10. And we again confirm our assumptions about the data:"
   ]
  },
  {
   "cell_type": "code",
   "execution_count": 33,
   "metadata": {},
   "outputs": [
    {
     "data": {
      "text/plain": [
       "True    1479\n",
       "dtype: int64"
      ]
     },
     "execution_count": 33,
     "metadata": {},
     "output_type": "execute_result"
    }
   ],
   "source": [
    "(abs(dfg_pivot[('Gen MWh', 'Calculated Total')] - dfg_pivot[('Gen MWh', 'Total')]) <= 10).value_counts()"
   ]
  },
  {
   "cell_type": "markdown",
   "metadata": {},
   "source": [
    "## Pivoting and Final Consolidation"
   ]
  },
  {
   "cell_type": "markdown",
   "metadata": {},
   "source": [
    "Our pivot tables have served their purpose. We now return to the main \"dfg\" dataframe:"
   ]
  },
  {
   "cell_type": "code",
   "execution_count": 34,
   "metadata": {},
   "outputs": [
    {
     "data": {
      "text/html": [
       "<div>\n",
       "<style scoped>\n",
       "    .dataframe tbody tr th:only-of-type {\n",
       "        vertical-align: middle;\n",
       "    }\n",
       "\n",
       "    .dataframe tbody tr th {\n",
       "        vertical-align: top;\n",
       "    }\n",
       "\n",
       "    .dataframe thead th {\n",
       "        text-align: right;\n",
       "    }\n",
       "</style>\n",
       "<table border=\"1\" class=\"dataframe\">\n",
       "  <thead>\n",
       "    <tr style=\"text-align: right;\">\n",
       "      <th></th>\n",
       "      <th>Year</th>\n",
       "      <th>State</th>\n",
       "      <th>Producer Type</th>\n",
       "      <th>Source</th>\n",
       "      <th>Gen MWh</th>\n",
       "    </tr>\n",
       "  </thead>\n",
       "  <tbody>\n",
       "    <tr>\n",
       "      <td>1</td>\n",
       "      <td>1990</td>\n",
       "      <td>AK</td>\n",
       "      <td>Total Electric Power Industry</td>\n",
       "      <td>Total</td>\n",
       "      <td>5599506</td>\n",
       "    </tr>\n",
       "    <tr>\n",
       "      <td>2</td>\n",
       "      <td>1990</td>\n",
       "      <td>AK</td>\n",
       "      <td>Total Electric Power Industry</td>\n",
       "      <td>Coal</td>\n",
       "      <td>510573</td>\n",
       "    </tr>\n",
       "    <tr>\n",
       "      <td>3</td>\n",
       "      <td>1990</td>\n",
       "      <td>AK</td>\n",
       "      <td>Total Electric Power Industry</td>\n",
       "      <td>Hydroelectric Conventional</td>\n",
       "      <td>974521</td>\n",
       "    </tr>\n",
       "    <tr>\n",
       "      <td>4</td>\n",
       "      <td>1990</td>\n",
       "      <td>AK</td>\n",
       "      <td>Total Electric Power Industry</td>\n",
       "      <td>Natural Gas</td>\n",
       "      <td>3466261</td>\n",
       "    </tr>\n",
       "    <tr>\n",
       "      <td>5</td>\n",
       "      <td>1990</td>\n",
       "      <td>AK</td>\n",
       "      <td>Total Electric Power Industry</td>\n",
       "      <td>Petroleum</td>\n",
       "      <td>497116</td>\n",
       "    </tr>\n",
       "  </tbody>\n",
       "</table>\n",
       "</div>"
      ],
      "text/plain": [
       "0  Year State                  Producer Type                      Source  \\\n",
       "1  1990    AK  Total Electric Power Industry                       Total   \n",
       "2  1990    AK  Total Electric Power Industry                        Coal   \n",
       "3  1990    AK  Total Electric Power Industry  Hydroelectric Conventional   \n",
       "4  1990    AK  Total Electric Power Industry                 Natural Gas   \n",
       "5  1990    AK  Total Electric Power Industry                   Petroleum   \n",
       "\n",
       "0  Gen MWh  \n",
       "1  5599506  \n",
       "2   510573  \n",
       "3   974521  \n",
       "4  3466261  \n",
       "5   497116  "
      ]
     },
     "execution_count": 34,
     "metadata": {},
     "output_type": "execute_result"
    }
   ],
   "source": [
    "dfg.head()"
   ]
  },
  {
   "cell_type": "markdown",
   "metadata": {},
   "source": [
    "Since \"Producer Type\" only contains \"Total Electric Power Industry\" we can drop that column:"
   ]
  },
  {
   "cell_type": "code",
   "execution_count": 35,
   "metadata": {},
   "outputs": [],
   "source": [
    "dfg.drop(columns=['Producer Type'], inplace=True)"
   ]
  },
  {
   "cell_type": "markdown",
   "metadata": {},
   "source": [
    "Let's shorten some of the Source names:"
   ]
  },
  {
   "cell_type": "code",
   "execution_count": 36,
   "metadata": {
    "scrolled": false
   },
   "outputs": [],
   "source": [
    "dfg.replace({\"Source\": {\"Hydroelectric Conventional\": \"Hydroelectric\", \n",
    "                        \"Solar Thermal and Photovoltaic\": \"Solar Thermal/PV\"}}, inplace=True)"
   ]
  },
  {
   "cell_type": "markdown",
   "metadata": {},
   "source": [
    "Now we do a final pivot our dataframe, so each Year / State combination is a row, and each generation source is a column with Gen MWh as the value:"
   ]
  },
  {
   "cell_type": "code",
   "execution_count": 37,
   "metadata": {},
   "outputs": [
    {
     "data": {
      "text/html": [
       "<div>\n",
       "<style scoped>\n",
       "    .dataframe tbody tr th:only-of-type {\n",
       "        vertical-align: middle;\n",
       "    }\n",
       "\n",
       "    .dataframe tbody tr th {\n",
       "        vertical-align: top;\n",
       "    }\n",
       "\n",
       "    .dataframe thead th {\n",
       "        text-align: right;\n",
       "    }\n",
       "</style>\n",
       "<table border=\"1\" class=\"dataframe\">\n",
       "  <thead>\n",
       "    <tr style=\"text-align: right;\">\n",
       "      <th>Source</th>\n",
       "      <th>Year</th>\n",
       "      <th>State</th>\n",
       "      <th>Coal</th>\n",
       "      <th>Geothermal</th>\n",
       "      <th>Hydroelectric</th>\n",
       "      <th>Natural Gas</th>\n",
       "      <th>Nuclear</th>\n",
       "      <th>Other</th>\n",
       "      <th>Other Biomass</th>\n",
       "      <th>Other Gases</th>\n",
       "      <th>Petroleum</th>\n",
       "      <th>Pumped Storage</th>\n",
       "      <th>Solar Thermal/PV</th>\n",
       "      <th>Total</th>\n",
       "      <th>Wind</th>\n",
       "      <th>Wood and Wood Derived Fuels</th>\n",
       "    </tr>\n",
       "  </thead>\n",
       "  <tbody>\n",
       "    <tr>\n",
       "      <td>0</td>\n",
       "      <td>1990</td>\n",
       "      <td>AK</td>\n",
       "      <td>510573</td>\n",
       "      <td>0</td>\n",
       "      <td>974521</td>\n",
       "      <td>3466261</td>\n",
       "      <td>0</td>\n",
       "      <td>0</td>\n",
       "      <td>0</td>\n",
       "      <td>0</td>\n",
       "      <td>497116</td>\n",
       "      <td>0</td>\n",
       "      <td>0</td>\n",
       "      <td>5599506</td>\n",
       "      <td>0</td>\n",
       "      <td>151035</td>\n",
       "    </tr>\n",
       "    <tr>\n",
       "      <td>1</td>\n",
       "      <td>1990</td>\n",
       "      <td>AL</td>\n",
       "      <td>53658115</td>\n",
       "      <td>0</td>\n",
       "      <td>10366507</td>\n",
       "      <td>1020714</td>\n",
       "      <td>12051882</td>\n",
       "      <td>0</td>\n",
       "      <td>47503</td>\n",
       "      <td>269476</td>\n",
       "      <td>138089</td>\n",
       "      <td>0</td>\n",
       "      <td>0</td>\n",
       "      <td>79652133</td>\n",
       "      <td>0</td>\n",
       "      <td>2099847</td>\n",
       "    </tr>\n",
       "    <tr>\n",
       "      <td>2</td>\n",
       "      <td>1990</td>\n",
       "      <td>AR</td>\n",
       "      <td>19207935</td>\n",
       "      <td>0</td>\n",
       "      <td>3654653</td>\n",
       "      <td>3578573</td>\n",
       "      <td>11282053</td>\n",
       "      <td>0</td>\n",
       "      <td>15389</td>\n",
       "      <td>0</td>\n",
       "      <td>79979</td>\n",
       "      <td>42972</td>\n",
       "      <td>0</td>\n",
       "      <td>39099598</td>\n",
       "      <td>0</td>\n",
       "      <td>1238044</td>\n",
       "    </tr>\n",
       "    <tr>\n",
       "      <td>3</td>\n",
       "      <td>1990</td>\n",
       "      <td>AZ</td>\n",
       "      <td>31915610</td>\n",
       "      <td>0</td>\n",
       "      <td>7417576</td>\n",
       "      <td>2333900</td>\n",
       "      <td>20597689</td>\n",
       "      <td>0</td>\n",
       "      <td>0</td>\n",
       "      <td>0</td>\n",
       "      <td>151867</td>\n",
       "      <td>249767</td>\n",
       "      <td>0</td>\n",
       "      <td>62774297</td>\n",
       "      <td>0</td>\n",
       "      <td>107888</td>\n",
       "    </tr>\n",
       "    <tr>\n",
       "      <td>4</td>\n",
       "      <td>1990</td>\n",
       "      <td>CA</td>\n",
       "      <td>2637677</td>\n",
       "      <td>14521254</td>\n",
       "      <td>23792567</td>\n",
       "      <td>74168308</td>\n",
       "      <td>32692807</td>\n",
       "      <td>0</td>\n",
       "      <td>2117915</td>\n",
       "      <td>2146742</td>\n",
       "      <td>5473852</td>\n",
       "      <td>986252</td>\n",
       "      <td>366668</td>\n",
       "      <td>165784909</td>\n",
       "      <td>2758881</td>\n",
       "      <td>4121986</td>\n",
       "    </tr>\n",
       "  </tbody>\n",
       "</table>\n",
       "</div>"
      ],
      "text/plain": [
       "Source  Year State      Coal  Geothermal  Hydroelectric  Natural Gas  \\\n",
       "0       1990    AK    510573           0         974521      3466261   \n",
       "1       1990    AL  53658115           0       10366507      1020714   \n",
       "2       1990    AR  19207935           0        3654653      3578573   \n",
       "3       1990    AZ  31915610           0        7417576      2333900   \n",
       "4       1990    CA   2637677    14521254       23792567     74168308   \n",
       "\n",
       "Source   Nuclear  Other  Other Biomass  Other Gases  Petroleum  \\\n",
       "0              0      0              0            0     497116   \n",
       "1       12051882      0          47503       269476     138089   \n",
       "2       11282053      0          15389            0      79979   \n",
       "3       20597689      0              0            0     151867   \n",
       "4       32692807      0        2117915      2146742    5473852   \n",
       "\n",
       "Source  Pumped Storage  Solar Thermal/PV      Total     Wind  \\\n",
       "0                    0                 0    5599506        0   \n",
       "1                    0                 0   79652133        0   \n",
       "2                42972                 0   39099598        0   \n",
       "3               249767                 0   62774297        0   \n",
       "4               986252            366668  165784909  2758881   \n",
       "\n",
       "Source  Wood and Wood Derived Fuels  \n",
       "0                            151035  \n",
       "1                           2099847  \n",
       "2                           1238044  \n",
       "3                            107888  \n",
       "4                           4121986  "
      ]
     },
     "execution_count": 37,
     "metadata": {},
     "output_type": "execute_result"
    }
   ],
   "source": [
    "dfg = pd.pivot_table(data=dfg,index=[\"Year\", \"State\"], columns = \"Source\", values = \"Gen MWh\", fill_value=0)\n",
    "dfg.reset_index(level=[0,1], inplace = True)\n",
    "dfg.head()"
   ]
  },
  {
   "cell_type": "markdown",
   "metadata": {},
   "source": [
    "The \"Other Biomass\" and \"Wood and Wood Derived Fuels\" can be combined into one column, \"Biomass\", and then we can drop them."
   ]
  },
  {
   "cell_type": "code",
   "execution_count": 38,
   "metadata": {
    "scrolled": true
   },
   "outputs": [],
   "source": [
    "dfg[\"Biomass\"] = dfg[\"Wood and Wood Derived Fuels\"] + dfg[\"Other Biomass\"]\n",
    "dfg.drop([\"Wood and Wood Derived Fuels\", \"Other Biomass\"], axis = 1, inplace = True)"
   ]
  },
  {
   "cell_type": "markdown",
   "metadata": {},
   "source": [
    "\"Pumped Storage\" is an energy storage technology. While energy storage is an important subject, it is beyond the scope of this project. Rather than include it as a generation source, we will drop the column.\n",
    "\n",
    "**Note:** This will result in states with significant pumped storage to have generation totals slightly off 100%. Rather than adjust the generation totals to hide this, I choose to leave them as is. This will be visible in the stackplot visualizations, where a few states may have a generation total slightly below or above 100%. "
   ]
  },
  {
   "cell_type": "code",
   "execution_count": 39,
   "metadata": {},
   "outputs": [],
   "source": [
    "dfg.drop(columns=['Pumped Storage'], inplace=True)"
   ]
  },
  {
   "cell_type": "markdown",
   "metadata": {},
   "source": [
    "Changing our float display format will make the data easier to interpret visually:"
   ]
  },
  {
   "cell_type": "code",
   "execution_count": 40,
   "metadata": {},
   "outputs": [],
   "source": [
    "pd.options.display.float_format = '{:,.0f}'.format"
   ]
  },
  {
   "cell_type": "code",
   "execution_count": 41,
   "metadata": {},
   "outputs": [
    {
     "data": {
      "text/html": [
       "<div>\n",
       "<style scoped>\n",
       "    .dataframe tbody tr th:only-of-type {\n",
       "        vertical-align: middle;\n",
       "    }\n",
       "\n",
       "    .dataframe tbody tr th {\n",
       "        vertical-align: top;\n",
       "    }\n",
       "\n",
       "    .dataframe thead th {\n",
       "        text-align: right;\n",
       "    }\n",
       "</style>\n",
       "<table border=\"1\" class=\"dataframe\">\n",
       "  <thead>\n",
       "    <tr style=\"text-align: right;\">\n",
       "      <th>Source</th>\n",
       "      <th>Year</th>\n",
       "      <th>State</th>\n",
       "      <th>Coal</th>\n",
       "      <th>Geothermal</th>\n",
       "      <th>Hydroelectric</th>\n",
       "      <th>Natural Gas</th>\n",
       "      <th>Nuclear</th>\n",
       "      <th>Other</th>\n",
       "      <th>Other Gases</th>\n",
       "      <th>Petroleum</th>\n",
       "      <th>Solar Thermal/PV</th>\n",
       "      <th>Total</th>\n",
       "      <th>Wind</th>\n",
       "      <th>Biomass</th>\n",
       "    </tr>\n",
       "  </thead>\n",
       "  <tbody>\n",
       "    <tr>\n",
       "      <td>0</td>\n",
       "      <td>1990</td>\n",
       "      <td>AK</td>\n",
       "      <td>510573</td>\n",
       "      <td>0</td>\n",
       "      <td>974521</td>\n",
       "      <td>3466261</td>\n",
       "      <td>0</td>\n",
       "      <td>0</td>\n",
       "      <td>0</td>\n",
       "      <td>497116</td>\n",
       "      <td>0</td>\n",
       "      <td>5599506</td>\n",
       "      <td>0</td>\n",
       "      <td>151035</td>\n",
       "    </tr>\n",
       "    <tr>\n",
       "      <td>1</td>\n",
       "      <td>1990</td>\n",
       "      <td>AL</td>\n",
       "      <td>53658115</td>\n",
       "      <td>0</td>\n",
       "      <td>10366507</td>\n",
       "      <td>1020714</td>\n",
       "      <td>12051882</td>\n",
       "      <td>0</td>\n",
       "      <td>269476</td>\n",
       "      <td>138089</td>\n",
       "      <td>0</td>\n",
       "      <td>79652133</td>\n",
       "      <td>0</td>\n",
       "      <td>2147350</td>\n",
       "    </tr>\n",
       "    <tr>\n",
       "      <td>2</td>\n",
       "      <td>1990</td>\n",
       "      <td>AR</td>\n",
       "      <td>19207935</td>\n",
       "      <td>0</td>\n",
       "      <td>3654653</td>\n",
       "      <td>3578573</td>\n",
       "      <td>11282053</td>\n",
       "      <td>0</td>\n",
       "      <td>0</td>\n",
       "      <td>79979</td>\n",
       "      <td>0</td>\n",
       "      <td>39099598</td>\n",
       "      <td>0</td>\n",
       "      <td>1253433</td>\n",
       "    </tr>\n",
       "    <tr>\n",
       "      <td>3</td>\n",
       "      <td>1990</td>\n",
       "      <td>AZ</td>\n",
       "      <td>31915610</td>\n",
       "      <td>0</td>\n",
       "      <td>7417576</td>\n",
       "      <td>2333900</td>\n",
       "      <td>20597689</td>\n",
       "      <td>0</td>\n",
       "      <td>0</td>\n",
       "      <td>151867</td>\n",
       "      <td>0</td>\n",
       "      <td>62774297</td>\n",
       "      <td>0</td>\n",
       "      <td>107888</td>\n",
       "    </tr>\n",
       "    <tr>\n",
       "      <td>4</td>\n",
       "      <td>1990</td>\n",
       "      <td>CA</td>\n",
       "      <td>2637677</td>\n",
       "      <td>14521254</td>\n",
       "      <td>23792567</td>\n",
       "      <td>74168308</td>\n",
       "      <td>32692807</td>\n",
       "      <td>0</td>\n",
       "      <td>2146742</td>\n",
       "      <td>5473852</td>\n",
       "      <td>366668</td>\n",
       "      <td>165784909</td>\n",
       "      <td>2758881</td>\n",
       "      <td>6239901</td>\n",
       "    </tr>\n",
       "  </tbody>\n",
       "</table>\n",
       "</div>"
      ],
      "text/plain": [
       "Source  Year State      Coal  Geothermal  Hydroelectric  Natural Gas  \\\n",
       "0       1990    AK    510573           0         974521      3466261   \n",
       "1       1990    AL  53658115           0       10366507      1020714   \n",
       "2       1990    AR  19207935           0        3654653      3578573   \n",
       "3       1990    AZ  31915610           0        7417576      2333900   \n",
       "4       1990    CA   2637677    14521254       23792567     74168308   \n",
       "\n",
       "Source   Nuclear  Other  Other Gases  Petroleum  Solar Thermal/PV      Total  \\\n",
       "0              0      0            0     497116                 0    5599506   \n",
       "1       12051882      0       269476     138089                 0   79652133   \n",
       "2       11282053      0            0      79979                 0   39099598   \n",
       "3       20597689      0            0     151867                 0   62774297   \n",
       "4       32692807      0      2146742    5473852            366668  165784909   \n",
       "\n",
       "Source     Wind  Biomass  \n",
       "0             0   151035  \n",
       "1             0  2147350  \n",
       "2             0  1253433  \n",
       "3             0   107888  \n",
       "4       2758881  6239901  "
      ]
     },
     "execution_count": 41,
     "metadata": {},
     "output_type": "execute_result"
    }
   ],
   "source": [
    "dfg.head()"
   ]
  },
  {
   "cell_type": "markdown",
   "metadata": {},
   "source": [
    "Save the pre-processed electricity generation dataframe to .csv:"
   ]
  },
  {
   "cell_type": "code",
   "execution_count": 42,
   "metadata": {},
   "outputs": [],
   "source": [
    "dfg.to_csv('./data/electricity-generation.csv')"
   ]
  },
  {
   "cell_type": "markdown",
   "metadata": {},
   "source": [
    "# Rates Data"
   ]
  },
  {
   "cell_type": "markdown",
   "metadata": {},
   "source": [
    "## Importing Data from EIA Source .xls(x) files"
   ]
  },
  {
   "cell_type": "code",
   "execution_count": 43,
   "metadata": {},
   "outputs": [],
   "source": [
    "dfr = pd.read_excel('./data/avgprice_annual.xlsx', header=1)"
   ]
  },
  {
   "cell_type": "code",
   "execution_count": 44,
   "metadata": {},
   "outputs": [
    {
     "data": {
      "text/html": [
       "<div>\n",
       "<style scoped>\n",
       "    .dataframe tbody tr th:only-of-type {\n",
       "        vertical-align: middle;\n",
       "    }\n",
       "\n",
       "    .dataframe tbody tr th {\n",
       "        vertical-align: top;\n",
       "    }\n",
       "\n",
       "    .dataframe thead th {\n",
       "        text-align: right;\n",
       "    }\n",
       "</style>\n",
       "<table border=\"1\" class=\"dataframe\">\n",
       "  <thead>\n",
       "    <tr style=\"text-align: right;\">\n",
       "      <th></th>\n",
       "      <th>Year</th>\n",
       "      <th>State</th>\n",
       "      <th>Industry Sector Category</th>\n",
       "      <th>Residential</th>\n",
       "      <th>Commercial</th>\n",
       "      <th>Industrial</th>\n",
       "      <th>Transportation</th>\n",
       "      <th>Other</th>\n",
       "      <th>Total</th>\n",
       "    </tr>\n",
       "  </thead>\n",
       "  <tbody>\n",
       "    <tr>\n",
       "      <td>0</td>\n",
       "      <td>2018</td>\n",
       "      <td>AK</td>\n",
       "      <td>Total Electric Industry</td>\n",
       "      <td>22</td>\n",
       "      <td>19</td>\n",
       "      <td>17</td>\n",
       "      <td>0</td>\n",
       "      <td>nan</td>\n",
       "      <td>19</td>\n",
       "    </tr>\n",
       "    <tr>\n",
       "      <td>1</td>\n",
       "      <td>2018</td>\n",
       "      <td>AL</td>\n",
       "      <td>Total Electric Industry</td>\n",
       "      <td>12</td>\n",
       "      <td>11</td>\n",
       "      <td>6</td>\n",
       "      <td>0</td>\n",
       "      <td>nan</td>\n",
       "      <td>10</td>\n",
       "    </tr>\n",
       "    <tr>\n",
       "      <td>2</td>\n",
       "      <td>2018</td>\n",
       "      <td>AR</td>\n",
       "      <td>Total Electric Industry</td>\n",
       "      <td>10</td>\n",
       "      <td>8</td>\n",
       "      <td>6</td>\n",
       "      <td>11</td>\n",
       "      <td>nan</td>\n",
       "      <td>8</td>\n",
       "    </tr>\n",
       "    <tr>\n",
       "      <td>3</td>\n",
       "      <td>2018</td>\n",
       "      <td>AZ</td>\n",
       "      <td>Total Electric Industry</td>\n",
       "      <td>13</td>\n",
       "      <td>11</td>\n",
       "      <td>7</td>\n",
       "      <td>10</td>\n",
       "      <td>nan</td>\n",
       "      <td>11</td>\n",
       "    </tr>\n",
       "    <tr>\n",
       "      <td>4</td>\n",
       "      <td>2018</td>\n",
       "      <td>CA</td>\n",
       "      <td>Total Electric Industry</td>\n",
       "      <td>19</td>\n",
       "      <td>16</td>\n",
       "      <td>13</td>\n",
       "      <td>9</td>\n",
       "      <td>nan</td>\n",
       "      <td>17</td>\n",
       "    </tr>\n",
       "  </tbody>\n",
       "</table>\n",
       "</div>"
      ],
      "text/plain": [
       "   Year State Industry Sector Category  Residential  Commercial  Industrial  \\\n",
       "0  2018    AK  Total Electric Industry           22          19          17   \n",
       "1  2018    AL  Total Electric Industry           12          11           6   \n",
       "2  2018    AR  Total Electric Industry           10           8           6   \n",
       "3  2018    AZ  Total Electric Industry           13          11           7   \n",
       "4  2018    CA  Total Electric Industry           19          16          13   \n",
       "\n",
       "   Transportation  Other  Total  \n",
       "0               0    nan     19  \n",
       "1               0    nan     10  \n",
       "2              11    nan      8  \n",
       "3              10    nan     11  \n",
       "4               9    nan     17  "
      ]
     },
     "execution_count": 44,
     "metadata": {},
     "output_type": "execute_result"
    }
   ],
   "source": [
    "dfr.head()"
   ]
  },
  {
   "cell_type": "code",
   "execution_count": 45,
   "metadata": {},
   "outputs": [
    {
     "data": {
      "text/plain": [
       "(4271, 9)"
      ]
     },
     "execution_count": 45,
     "metadata": {},
     "output_type": "execute_result"
    }
   ],
   "source": [
    "dfr.shape"
   ]
  },
  {
   "cell_type": "markdown",
   "metadata": {},
   "source": [
    "## Initial Data Cleaning"
   ]
  },
  {
   "cell_type": "markdown",
   "metadata": {},
   "source": [
    "There are nulls in some of the electricity rates data, but not in the Total column, and that is the one we will use, so these are not a problem."
   ]
  },
  {
   "cell_type": "code",
   "execution_count": 46,
   "metadata": {
    "scrolled": true
   },
   "outputs": [
    {
     "data": {
      "text/plain": [
       "Year                           0\n",
       "State                          0\n",
       "Industry Sector Category       0\n",
       "Residential                    0\n",
       "Commercial                     0\n",
       "Industrial                     0\n",
       "Transportation              1607\n",
       "Other                       2664\n",
       "Total                          0\n",
       "dtype: int64"
      ]
     },
     "execution_count": 46,
     "metadata": {},
     "output_type": "execute_result"
    }
   ],
   "source": [
    "dfr.isnull().sum()"
   ]
  },
  {
   "cell_type": "code",
   "execution_count": 47,
   "metadata": {},
   "outputs": [
    {
     "data": {
      "text/plain": [
       "Year                          int64\n",
       "State                        object\n",
       "Industry Sector Category     object\n",
       "Residential                 float64\n",
       "Commercial                  float64\n",
       "Industrial                  float64\n",
       "Transportation              float64\n",
       "Other                       float64\n",
       "Total                       float64\n",
       "dtype: object"
      ]
     },
     "execution_count": 47,
     "metadata": {},
     "output_type": "execute_result"
    }
   ],
   "source": [
    "dfr.dtypes"
   ]
  },
  {
   "cell_type": "code",
   "execution_count": 48,
   "metadata": {},
   "outputs": [
    {
     "data": {
      "text/html": [
       "<div>\n",
       "<style scoped>\n",
       "    .dataframe tbody tr th:only-of-type {\n",
       "        vertical-align: middle;\n",
       "    }\n",
       "\n",
       "    .dataframe tbody tr th {\n",
       "        vertical-align: top;\n",
       "    }\n",
       "\n",
       "    .dataframe thead th {\n",
       "        text-align: right;\n",
       "    }\n",
       "</style>\n",
       "<table border=\"1\" class=\"dataframe\">\n",
       "  <thead>\n",
       "    <tr style=\"text-align: right;\">\n",
       "      <th></th>\n",
       "      <th>Year</th>\n",
       "      <th>State</th>\n",
       "      <th>Industry Sector Category</th>\n",
       "      <th>Residential</th>\n",
       "      <th>Commercial</th>\n",
       "      <th>Industrial</th>\n",
       "      <th>Transportation</th>\n",
       "      <th>Other</th>\n",
       "      <th>Total</th>\n",
       "    </tr>\n",
       "  </thead>\n",
       "  <tbody>\n",
       "    <tr>\n",
       "      <td>4270</td>\n",
       "      <td>1990</td>\n",
       "      <td>US</td>\n",
       "      <td>Full-Service Providers</td>\n",
       "      <td>8</td>\n",
       "      <td>7</td>\n",
       "      <td>5</td>\n",
       "      <td>nan</td>\n",
       "      <td>6</td>\n",
       "      <td>7</td>\n",
       "    </tr>\n",
       "    <tr>\n",
       "      <td>4194</td>\n",
       "      <td>1990</td>\n",
       "      <td>NC</td>\n",
       "      <td>Total Electric Industry</td>\n",
       "      <td>8</td>\n",
       "      <td>6</td>\n",
       "      <td>5</td>\n",
       "      <td>nan</td>\n",
       "      <td>7</td>\n",
       "      <td>6</td>\n",
       "    </tr>\n",
       "    <tr>\n",
       "      <td>4195</td>\n",
       "      <td>1990</td>\n",
       "      <td>ND</td>\n",
       "      <td>Total Electric Industry</td>\n",
       "      <td>6</td>\n",
       "      <td>6</td>\n",
       "      <td>5</td>\n",
       "      <td>nan</td>\n",
       "      <td>4</td>\n",
       "      <td>6</td>\n",
       "    </tr>\n",
       "    <tr>\n",
       "      <td>4196</td>\n",
       "      <td>1990</td>\n",
       "      <td>NE</td>\n",
       "      <td>Total Electric Industry</td>\n",
       "      <td>6</td>\n",
       "      <td>6</td>\n",
       "      <td>4</td>\n",
       "      <td>nan</td>\n",
       "      <td>6</td>\n",
       "      <td>6</td>\n",
       "    </tr>\n",
       "    <tr>\n",
       "      <td>4197</td>\n",
       "      <td>1990</td>\n",
       "      <td>NH</td>\n",
       "      <td>Total Electric Industry</td>\n",
       "      <td>10</td>\n",
       "      <td>10</td>\n",
       "      <td>7</td>\n",
       "      <td>nan</td>\n",
       "      <td>13</td>\n",
       "      <td>9</td>\n",
       "    </tr>\n",
       "  </tbody>\n",
       "</table>\n",
       "</div>"
      ],
      "text/plain": [
       "      Year State Industry Sector Category  Residential  Commercial  \\\n",
       "4270  1990    US   Full-Service Providers            8           7   \n",
       "4194  1990    NC  Total Electric Industry            8           6   \n",
       "4195  1990    ND  Total Electric Industry            6           6   \n",
       "4196  1990    NE  Total Electric Industry            6           6   \n",
       "4197  1990    NH  Total Electric Industry           10          10   \n",
       "\n",
       "      Industrial  Transportation  Other  Total  \n",
       "4270           5             nan      6      7  \n",
       "4194           5             nan      7      6  \n",
       "4195           5             nan      4      6  \n",
       "4196           4             nan      6      6  \n",
       "4197           7             nan     13      9  "
      ]
     },
     "execution_count": 48,
     "metadata": {},
     "output_type": "execute_result"
    }
   ],
   "source": [
    "# Reverse row order of the dataframe to match time, 1990 to 2018\n",
    "dfr.sort_values('Year', inplace=True, ascending=True)\n",
    "dfr.head()"
   ]
  },
  {
   "cell_type": "markdown",
   "metadata": {},
   "source": [
    "We're going to focus on overall electricity costs, represented by the \"Total\" columns, so we will drop the remaining columns. This has the added benefit of removing all null values. Thank you EIA for such clean data!"
   ]
  },
  {
   "cell_type": "code",
   "execution_count": 49,
   "metadata": {},
   "outputs": [],
   "source": [
    "dfr.drop(columns = ['Residential', 'Commercial', 'Industrial', 'Transportation', 'Other'],inplace = True)"
   ]
  },
  {
   "cell_type": "markdown",
   "metadata": {},
   "source": [
    "The \"Total\" column expresses the total cents per kWh, so let's rename it to something meaningful."
   ]
  },
  {
   "cell_type": "code",
   "execution_count": 50,
   "metadata": {},
   "outputs": [],
   "source": [
    "dfr.rename({\"Total\": \"Cents_kWh\"}, axis=1, inplace=True)"
   ]
  },
  {
   "cell_type": "code",
   "execution_count": 51,
   "metadata": {},
   "outputs": [
    {
     "data": {
      "text/plain": [
       "Year                        0\n",
       "State                       0\n",
       "Industry Sector Category    0\n",
       "Cents_kWh                   0\n",
       "dtype: int64"
      ]
     },
     "execution_count": 51,
     "metadata": {},
     "output_type": "execute_result"
    }
   ],
   "source": [
    "dfr.isnull().sum()"
   ]
  },
  {
   "cell_type": "markdown",
   "metadata": {},
   "source": [
    "From \"Industrial Sector Category, what we're interested in is \"Total Electric Industry\" so we'll drop the rows which represent the categories, which are merely constituents of the total. We do not need the \"Industry Sector Category\" column now, as that column only has one value, \"Total Electric Industry\". And we'll sort by year and state, and reset the index."
   ]
  },
  {
   "cell_type": "code",
   "execution_count": 52,
   "metadata": {},
   "outputs": [],
   "source": [
    "dfr = dfr[dfr['Industry Sector Category'] == \"Total Electric Industry\"]"
   ]
  },
  {
   "cell_type": "code",
   "execution_count": 53,
   "metadata": {},
   "outputs": [],
   "source": [
    "dfr.drop(axis = 1, columns = [\"Industry Sector Category\"], inplace = True)"
   ]
  },
  {
   "cell_type": "code",
   "execution_count": 54,
   "metadata": {},
   "outputs": [],
   "source": [
    "dfr.sort_values(by = ['Year', 'State'], inplace = True)"
   ]
  },
  {
   "cell_type": "markdown",
   "metadata": {},
   "source": [
    "We need to drop all \"State\" rows that represent the whole US. Keeping that aggregate row per year could distort our data as we're focusing on individual states:"
   ]
  },
  {
   "cell_type": "code",
   "execution_count": 55,
   "metadata": {},
   "outputs": [],
   "source": [
    "dfr = dfr[dfr[\"State\"] != \"US\"]"
   ]
  },
  {
   "cell_type": "code",
   "execution_count": 56,
   "metadata": {},
   "outputs": [
    {
     "data": {
      "text/html": [
       "<div>\n",
       "<style scoped>\n",
       "    .dataframe tbody tr th:only-of-type {\n",
       "        vertical-align: middle;\n",
       "    }\n",
       "\n",
       "    .dataframe tbody tr th {\n",
       "        vertical-align: top;\n",
       "    }\n",
       "\n",
       "    .dataframe thead th {\n",
       "        text-align: right;\n",
       "    }\n",
       "</style>\n",
       "<table border=\"1\" class=\"dataframe\">\n",
       "  <thead>\n",
       "    <tr style=\"text-align: right;\">\n",
       "      <th></th>\n",
       "      <th>Year</th>\n",
       "      <th>State</th>\n",
       "      <th>Cents_kWh</th>\n",
       "    </tr>\n",
       "  </thead>\n",
       "  <tbody>\n",
       "    <tr>\n",
       "      <td>0</td>\n",
       "      <td>1990</td>\n",
       "      <td>AK</td>\n",
       "      <td>9</td>\n",
       "    </tr>\n",
       "    <tr>\n",
       "      <td>1</td>\n",
       "      <td>1990</td>\n",
       "      <td>AL</td>\n",
       "      <td>6</td>\n",
       "    </tr>\n",
       "    <tr>\n",
       "      <td>2</td>\n",
       "      <td>1990</td>\n",
       "      <td>AR</td>\n",
       "      <td>7</td>\n",
       "    </tr>\n",
       "    <tr>\n",
       "      <td>3</td>\n",
       "      <td>1990</td>\n",
       "      <td>AZ</td>\n",
       "      <td>8</td>\n",
       "    </tr>\n",
       "    <tr>\n",
       "      <td>4</td>\n",
       "      <td>1990</td>\n",
       "      <td>CA</td>\n",
       "      <td>9</td>\n",
       "    </tr>\n",
       "    <tr>\n",
       "      <td>...</td>\n",
       "      <td>...</td>\n",
       "      <td>...</td>\n",
       "      <td>...</td>\n",
       "    </tr>\n",
       "    <tr>\n",
       "      <td>1474</td>\n",
       "      <td>2018</td>\n",
       "      <td>VT</td>\n",
       "      <td>15</td>\n",
       "    </tr>\n",
       "    <tr>\n",
       "      <td>1475</td>\n",
       "      <td>2018</td>\n",
       "      <td>WA</td>\n",
       "      <td>8</td>\n",
       "    </tr>\n",
       "    <tr>\n",
       "      <td>1476</td>\n",
       "      <td>2018</td>\n",
       "      <td>WI</td>\n",
       "      <td>11</td>\n",
       "    </tr>\n",
       "    <tr>\n",
       "      <td>1477</td>\n",
       "      <td>2018</td>\n",
       "      <td>WV</td>\n",
       "      <td>9</td>\n",
       "    </tr>\n",
       "    <tr>\n",
       "      <td>1478</td>\n",
       "      <td>2018</td>\n",
       "      <td>WY</td>\n",
       "      <td>8</td>\n",
       "    </tr>\n",
       "  </tbody>\n",
       "</table>\n",
       "<p>1479 rows × 3 columns</p>\n",
       "</div>"
      ],
      "text/plain": [
       "      Year State  Cents_kWh\n",
       "0     1990    AK          9\n",
       "1     1990    AL          6\n",
       "2     1990    AR          7\n",
       "3     1990    AZ          8\n",
       "4     1990    CA          9\n",
       "...    ...   ...        ...\n",
       "1474  2018    VT         15\n",
       "1475  2018    WA          8\n",
       "1476  2018    WI         11\n",
       "1477  2018    WV          9\n",
       "1478  2018    WY          8\n",
       "\n",
       "[1479 rows x 3 columns]"
      ]
     },
     "execution_count": 56,
     "metadata": {},
     "output_type": "execute_result"
    }
   ],
   "source": [
    "dfr.reset_index(drop = True)"
   ]
  },
  {
   "cell_type": "markdown",
   "metadata": {},
   "source": [
    "## Confirming we have the same number of entries per state (incl. DC, 51). <br>\n",
    "Without displaying the entire series, 1479 / 51 = 29, and that is what we have."
   ]
  },
  {
   "cell_type": "code",
   "execution_count": 57,
   "metadata": {},
   "outputs": [
    {
     "data": {
      "text/plain": [
       "1990    51\n",
       "1991    51\n",
       "1992    51\n",
       "1993    51\n",
       "1994    51\n",
       "Name: Year, dtype: int64"
      ]
     },
     "execution_count": 57,
     "metadata": {},
     "output_type": "execute_result"
    }
   ],
   "source": [
    "dfr['Year'].value_counts().sort_index().head()"
   ]
  },
  {
   "cell_type": "code",
   "execution_count": 58,
   "metadata": {},
   "outputs": [
    {
     "data": {
      "text/plain": [
       "AK    29\n",
       "AL    29\n",
       "AR    29\n",
       "AZ    29\n",
       "CA    29\n",
       "Name: State, dtype: int64"
      ]
     },
     "execution_count": 58,
     "metadata": {},
     "output_type": "execute_result"
    }
   ],
   "source": [
    "dfr['State'].value_counts().sort_index().head()"
   ]
  },
  {
   "cell_type": "markdown",
   "metadata": {},
   "source": [
    "## EDA - Visualization"
   ]
  },
  {
   "cell_type": "markdown",
   "metadata": {},
   "source": [
    "For each year we will create a boxplot. Each individual boxplot will display the distribution of electricity rates across all the states for the year in question. These can all be displayed on one plot."
   ]
  },
  {
   "cell_type": "code",
   "execution_count": 59,
   "metadata": {},
   "outputs": [
    {
     "data": {
      "image/png": "[encoded data removed]",
      "text/plain": [
       "<Figure size 1296x504 with 1 Axes>"
      ]
     },
     "metadata": {
      "needs_background": "light"
     },
     "output_type": "display_data"
    }
   ],
   "source": [
    "plt.figure(figsize=(18, 7))\n",
    "plt.ylim(0,30)  # If we don't set y limit our plot starts around 2 which makes prices look artificially low\n",
    "ax = sns.boxplot(y = \"Cents_kWh\", x = \"Year\", data=dfr, orient='v', palette=\"colorblind\");\n",
    "plt.setp(ax.get_xticklabels(), rotation=45)\n",
    "ax.set_title(\"Electricity Pricing by Year\",fontsize=30);\n",
    "ax.set_xlabel(\"Year\",fontsize=20);\n",
    "ax.set_ylabel(\"Electricity Rates\",fontsize=20);\n",
    "ax.tick_params(labelsize=15)"
   ]
  },
  {
   "cell_type": "markdown",
   "metadata": {},
   "source": [
    "**Interpretation:** each individual box left to right represents the range of retail electricity prices for all 50 states plus Puerto Rico and Washington DC. \n",
    "\n",
    "**_But this is not an accurate picture._** Per the EIA's website, prices have **not** been adjusted to remove the effects of inflation:\n",
    "\n",
    "https://www.eia.gov/tools/faqs/faq.php?id=13&t=5\n",
    "\n",
    "Fortunately there is a python library published by the Los Angeles Times Data and Graphics Department which will help us solve this problem:\n",
    "\n",
    "https://github.com/datadesk/cpi\n",
    "\n",
    "Below, we will install the package and adjust our data for inflation:\n",
    "\n",
    "**NOTE - the install code is commented out deliberately. Uncomment the cell below to install CPI.**"
   ]
  },
  {
   "cell_type": "markdown",
   "metadata": {},
   "source": [
    "## Adjusting Rates for Inflation"
   ]
  },
  {
   "cell_type": "code",
   "execution_count": 60,
   "metadata": {},
   "outputs": [],
   "source": [
    "#pip install cpi\n",
    "#cpi.update()"
   ]
  },
  {
   "cell_type": "markdown",
   "metadata": {},
   "source": [
    "Here the CPI library is imported, a function is defined to adjust our rates data for inflation, and it is applied to the entire dataframe:"
   ]
  },
  {
   "cell_type": "code",
   "execution_count": 61,
   "metadata": {},
   "outputs": [],
   "source": [
    "import cpi"
   ]
  },
  {
   "cell_type": "code",
   "execution_count": 62,
   "metadata": {},
   "outputs": [],
   "source": [
    "def inflate(row):\n",
    "    return cpi.inflate(row['Cents_kWh'], row['Year'], to=2005)"
   ]
  },
  {
   "cell_type": "code",
   "execution_count": 63,
   "metadata": {},
   "outputs": [],
   "source": [
    "dfr['Cents_kWh_Inf_Adj'] = np.round(dfr.apply(inflate, axis = 1), 2)"
   ]
  },
  {
   "cell_type": "markdown",
   "metadata": {},
   "source": [
    "We no longer need the pre-inflation adjusted \"Total\" column:"
   ]
  },
  {
   "cell_type": "code",
   "execution_count": 64,
   "metadata": {},
   "outputs": [],
   "source": [
    "dfr.drop(columns = \"Cents_kWh\", inplace = True)"
   ]
  },
  {
   "cell_type": "code",
   "execution_count": 65,
   "metadata": {},
   "outputs": [
    {
     "data": {
      "text/html": [
       "<div>\n",
       "<style scoped>\n",
       "    .dataframe tbody tr th:only-of-type {\n",
       "        vertical-align: middle;\n",
       "    }\n",
       "\n",
       "    .dataframe tbody tr th {\n",
       "        vertical-align: top;\n",
       "    }\n",
       "\n",
       "    .dataframe thead th {\n",
       "        text-align: right;\n",
       "    }\n",
       "</style>\n",
       "<table border=\"1\" class=\"dataframe\">\n",
       "  <thead>\n",
       "    <tr style=\"text-align: right;\">\n",
       "      <th></th>\n",
       "      <th>Year</th>\n",
       "      <th>State</th>\n",
       "      <th>Cents_kWh_Inf_Adj</th>\n",
       "    </tr>\n",
       "  </thead>\n",
       "  <tbody>\n",
       "    <tr>\n",
       "      <td>4167</td>\n",
       "      <td>1990</td>\n",
       "      <td>AK</td>\n",
       "      <td>14</td>\n",
       "    </tr>\n",
       "    <tr>\n",
       "      <td>4168</td>\n",
       "      <td>1990</td>\n",
       "      <td>AL</td>\n",
       "      <td>8</td>\n",
       "    </tr>\n",
       "    <tr>\n",
       "      <td>4169</td>\n",
       "      <td>1990</td>\n",
       "      <td>AR</td>\n",
       "      <td>10</td>\n",
       "    </tr>\n",
       "    <tr>\n",
       "      <td>4170</td>\n",
       "      <td>1990</td>\n",
       "      <td>AZ</td>\n",
       "      <td>12</td>\n",
       "    </tr>\n",
       "    <tr>\n",
       "      <td>4171</td>\n",
       "      <td>1990</td>\n",
       "      <td>CA</td>\n",
       "      <td>13</td>\n",
       "    </tr>\n",
       "  </tbody>\n",
       "</table>\n",
       "</div>"
      ],
      "text/plain": [
       "      Year State  Cents_kWh_Inf_Adj\n",
       "4167  1990    AK                 14\n",
       "4168  1990    AL                  8\n",
       "4169  1990    AR                 10\n",
       "4170  1990    AZ                 12\n",
       "4171  1990    CA                 13"
      ]
     },
     "execution_count": 65,
     "metadata": {},
     "output_type": "execute_result"
    }
   ],
   "source": [
    "dfr.head()"
   ]
  },
  {
   "cell_type": "markdown",
   "metadata": {},
   "source": [
    "## Post-Adjustment EDA"
   ]
  },
  {
   "cell_type": "code",
   "execution_count": 66,
   "metadata": {},
   "outputs": [
    {
     "data": {
      "image/png": "[encoded data removed]",
      "text/plain": [
       "<Figure size 1296x504 with 1 Axes>"
      ]
     },
     "metadata": {
      "needs_background": "light"
     },
     "output_type": "display_data"
    }
   ],
   "source": [
    "plt.figure(figsize=(18, 7))\n",
    "plt.ylim(0,30)  # If we don't set y limit our plot starts around 2 which makes prices look artificially low\n",
    "ax = sns.boxplot(y = \"Cents_kWh_Inf_Adj\", x = \"Year\", data=dfr, orient='v', palette=\"colorblind\");\n",
    "plt.setp(ax.get_xticklabels(), rotation=45)\n",
    "ax.set_title(\"Electricity Pricing by Year\",fontsize=30);\n",
    "ax.set_xlabel(\"Year\",fontsize=20);\n",
    "ax.set_ylabel(\"Electricity Rates\",fontsize=20);\n",
    "ax.tick_params(labelsize=15) "
   ]
  },
  {
   "cell_type": "markdown",
   "metadata": {},
   "source": [
    "**Interpretation:** The CPI adjusted data shows an overall decline in electricity rates nationwide, starting in 1990 to around 2003, with a clear outlier starting in 2000. It turns out that is Hawaii:"
   ]
  },
  {
   "cell_type": "markdown",
   "metadata": {},
   "source": [
    "## Identifying Outlier"
   ]
  },
  {
   "cell_type": "code",
   "execution_count": 67,
   "metadata": {},
   "outputs": [],
   "source": [
    "#Instantiate a \"number one!\" dataframe:\n",
    "dfr_num_1 = pd.DataFrame()"
   ]
  },
  {
   "cell_type": "code",
   "execution_count": 68,
   "metadata": {},
   "outputs": [],
   "source": [
    "# Collect our highest electricity price:\n",
    "for i in range(2000, 2019):\n",
    "    dfr_num_1 = pd.concat([dfr_num_1, dfr[dfr['Year'] == i].nlargest(1, \"Cents_kWh_Inf_Adj\")])"
   ]
  },
  {
   "cell_type": "code",
   "execution_count": 69,
   "metadata": {},
   "outputs": [
    {
     "data": {
      "text/html": [
       "<div>\n",
       "<style scoped>\n",
       "    .dataframe tbody tr th:only-of-type {\n",
       "        vertical-align: middle;\n",
       "    }\n",
       "\n",
       "    .dataframe tbody tr th {\n",
       "        vertical-align: top;\n",
       "    }\n",
       "\n",
       "    .dataframe thead th {\n",
       "        text-align: right;\n",
       "    }\n",
       "</style>\n",
       "<table border=\"1\" class=\"dataframe\">\n",
       "  <thead>\n",
       "    <tr style=\"text-align: right;\">\n",
       "      <th></th>\n",
       "      <th>Year</th>\n",
       "      <th>State</th>\n",
       "      <th>Cents_kWh_Inf_Adj</th>\n",
       "    </tr>\n",
       "  </thead>\n",
       "  <tbody>\n",
       "    <tr>\n",
       "      <td>3000</td>\n",
       "      <td>2000</td>\n",
       "      <td>HI</td>\n",
       "      <td>16</td>\n",
       "    </tr>\n",
       "    <tr>\n",
       "      <td>2836</td>\n",
       "      <td>2001</td>\n",
       "      <td>HI</td>\n",
       "      <td>15</td>\n",
       "    </tr>\n",
       "    <tr>\n",
       "      <td>2675</td>\n",
       "      <td>2002</td>\n",
       "      <td>HI</td>\n",
       "      <td>15</td>\n",
       "    </tr>\n",
       "    <tr>\n",
       "      <td>2514</td>\n",
       "      <td>2003</td>\n",
       "      <td>HI</td>\n",
       "      <td>15</td>\n",
       "    </tr>\n",
       "    <tr>\n",
       "      <td>2346</td>\n",
       "      <td>2004</td>\n",
       "      <td>HI</td>\n",
       "      <td>16</td>\n",
       "    </tr>\n",
       "    <tr>\n",
       "      <td>2179</td>\n",
       "      <td>2005</td>\n",
       "      <td>HI</td>\n",
       "      <td>18</td>\n",
       "    </tr>\n",
       "    <tr>\n",
       "      <td>2012</td>\n",
       "      <td>2006</td>\n",
       "      <td>HI</td>\n",
       "      <td>20</td>\n",
       "    </tr>\n",
       "    <tr>\n",
       "      <td>1845</td>\n",
       "      <td>2007</td>\n",
       "      <td>HI</td>\n",
       "      <td>20</td>\n",
       "    </tr>\n",
       "    <tr>\n",
       "      <td>1675</td>\n",
       "      <td>2008</td>\n",
       "      <td>HI</td>\n",
       "      <td>26</td>\n",
       "    </tr>\n",
       "    <tr>\n",
       "      <td>1505</td>\n",
       "      <td>2009</td>\n",
       "      <td>HI</td>\n",
       "      <td>19</td>\n",
       "    </tr>\n",
       "    <tr>\n",
       "      <td>1338</td>\n",
       "      <td>2010</td>\n",
       "      <td>HI</td>\n",
       "      <td>22</td>\n",
       "    </tr>\n",
       "    <tr>\n",
       "      <td>1174</td>\n",
       "      <td>2011</td>\n",
       "      <td>HI</td>\n",
       "      <td>27</td>\n",
       "    </tr>\n",
       "    <tr>\n",
       "      <td>1010</td>\n",
       "      <td>2012</td>\n",
       "      <td>HI</td>\n",
       "      <td>29</td>\n",
       "    </tr>\n",
       "    <tr>\n",
       "      <td>846</td>\n",
       "      <td>2013</td>\n",
       "      <td>HI</td>\n",
       "      <td>28</td>\n",
       "    </tr>\n",
       "    <tr>\n",
       "      <td>679</td>\n",
       "      <td>2014</td>\n",
       "      <td>HI</td>\n",
       "      <td>28</td>\n",
       "    </tr>\n",
       "    <tr>\n",
       "      <td>512</td>\n",
       "      <td>2015</td>\n",
       "      <td>HI</td>\n",
       "      <td>22</td>\n",
       "    </tr>\n",
       "    <tr>\n",
       "      <td>345</td>\n",
       "      <td>2016</td>\n",
       "      <td>HI</td>\n",
       "      <td>19</td>\n",
       "    </tr>\n",
       "    <tr>\n",
       "      <td>178</td>\n",
       "      <td>2017</td>\n",
       "      <td>HI</td>\n",
       "      <td>21</td>\n",
       "    </tr>\n",
       "    <tr>\n",
       "      <td>11</td>\n",
       "      <td>2018</td>\n",
       "      <td>HI</td>\n",
       "      <td>23</td>\n",
       "    </tr>\n",
       "  </tbody>\n",
       "</table>\n",
       "</div>"
      ],
      "text/plain": [
       "      Year State  Cents_kWh_Inf_Adj\n",
       "3000  2000    HI                 16\n",
       "2836  2001    HI                 15\n",
       "2675  2002    HI                 15\n",
       "2514  2003    HI                 15\n",
       "2346  2004    HI                 16\n",
       "2179  2005    HI                 18\n",
       "2012  2006    HI                 20\n",
       "1845  2007    HI                 20\n",
       "1675  2008    HI                 26\n",
       "1505  2009    HI                 19\n",
       "1338  2010    HI                 22\n",
       "1174  2011    HI                 27\n",
       "1010  2012    HI                 29\n",
       "846   2013    HI                 28\n",
       "679   2014    HI                 28\n",
       "512   2015    HI                 22\n",
       "345   2016    HI                 19\n",
       "178   2017    HI                 21\n",
       "11    2018    HI                 23"
      ]
     },
     "execution_count": 69,
     "metadata": {},
     "output_type": "execute_result"
    }
   ],
   "source": [
    "# Hawaii breaks away from the pack in 2000 - something worth investigating!\n",
    "dfr_num_1"
   ]
  },
  {
   "cell_type": "markdown",
   "metadata": {},
   "source": [
    "## Saving to .csv"
   ]
  },
  {
   "cell_type": "code",
   "execution_count": 70,
   "metadata": {},
   "outputs": [],
   "source": [
    "dfr.to_csv('./data/electricity-rates.csv')"
   ]
  }
 ],
 "metadata": {
  "kernelspec": {
   "display_name": "Python 3",
   "language": "python",
   "name": "python3"
  },
  "language_info": {
   "codemirror_mode": {
    "name": "ipython",
    "version": 3
   },
   "file_extension": ".py",
   "mimetype": "text/x-python",
   "name": "python",
   "nbconvert_exporter": "python",
   "pygments_lexer": "ipython3",
   "version": "3.7.4"
  },
  "toc": {
   "base_numbering": 1,
   "nav_menu": {},
   "number_sections": true,
   "sideBar": true,
   "skip_h1_title": false,
   "title_cell": "Table of Contents",
   "title_sidebar": "Contents",
   "toc_cell": false,
   "toc_position": {
    "height": "calc(100% - 180px)",
    "left": "10px",
    "top": "150px",
    "width": "256.1875px"
   },
   "toc_section_display": true,
   "toc_window_display": true
  }
 },
 "nbformat": 4,
 "nbformat_minor": 2
}
