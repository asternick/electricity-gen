{
 "cells": [
  {
   "cell_type": "markdown",
   "metadata": {},
   "source": [
    "# Imports"
   ]
  },
  {
   "cell_type": "markdown",
   "metadata": {},
   "source": [
    "In this notebook we will import the .csv files created in the EDA and preprocessing notebook. The data will be merged into the dfg dataframe. Visualization functions in this notebook are intended to be used as desired. A tremendous amount of insight can be gained from them - far more than can be summarized in this project.\n",
    "\n",
    "Clustering with both K-Means and DBSCAN is demonstrated. Although these are unsupervised learning methods, they do require some oversight. Silhouette score is used to choose optimal parameters for both algorithms. The clusters identified by both algorithms are visualized with the functions provided."
   ]
  },
  {
   "cell_type": "code",
   "execution_count": 1,
   "metadata": {},
   "outputs": [],
   "source": [
    "from sklearn.cluster import KMeans\n",
    "from sklearn.cluster import DBSCAN\n",
    "from sklearn.metrics import silhouette_score\n",
    "from sklearn.preprocessing import StandardScaler\n",
    "from sklearn.model_selection import train_test_split\n",
    "\n",
    "import numpy as np\n",
    "import pandas as pd\n",
    "from itertools import groupby\n",
    "\n",
    "import seaborn as sns\n",
    "import matplotlib.pyplot as plt\n",
    "import matplotlib\n",
    "import matplotlib.ticker as ticker\n",
    "import matplotlib.patches as mpatches\n",
    "\n",
    "matplotlib.style.use('ggplot')\n",
    "random_seed = 123\n",
    "\n",
    "import warnings\n",
    "warnings.simplefilter(action='ignore', category=FutureWarning)"
   ]
  },
  {
   "cell_type": "markdown",
   "metadata": {},
   "source": [
    "Here we read in our two .csv files which represent the electricity rates and generation data:"
   ]
  },
  {
   "cell_type": "code",
   "execution_count": 2,
   "metadata": {},
   "outputs": [],
   "source": [
    "dfr = pd.read_csv('../data/electricity-rates.csv')\n",
    "dfg = pd.read_csv('../data/electricity-generation.csv')\n",
    "dfg.drop(columns=['Unnamed: 0'], inplace=True)"
   ]
  },
  {
   "cell_type": "markdown",
   "metadata": {},
   "source": [
    "# Merging into one DataFrame"
   ]
  },
  {
   "cell_type": "markdown",
   "metadata": {},
   "source": [
    "Separate preprocessing of rates and generation data is complete. The next step is to merge all the meaningful data into one dataframe. First, we will confirm the two dataframes have the same Year and State order:"
   ]
  },
  {
   "cell_type": "code",
   "execution_count": 3,
   "metadata": {},
   "outputs": [
    {
     "data": {
      "text/plain": [
       "True"
      ]
     },
     "execution_count": 3,
     "metadata": {},
     "output_type": "execute_result"
    }
   ],
   "source": [
    "dfg['Year'].equals(dfr['Year'])"
   ]
  },
  {
   "cell_type": "code",
   "execution_count": 4,
   "metadata": {},
   "outputs": [
    {
     "data": {
      "text/plain": [
       "True"
      ]
     },
     "execution_count": 4,
     "metadata": {},
     "output_type": "execute_result"
    }
   ],
   "source": [
    "dfr['State'].equals(dfr['State'])"
   ]
  },
  {
   "cell_type": "markdown",
   "metadata": {},
   "source": [
    "The only data we need from the rates dataframe is Cents_kWh. Here we add it to the generation dataframe:"
   ]
  },
  {
   "cell_type": "code",
   "execution_count": 5,
   "metadata": {},
   "outputs": [],
   "source": [
    "dfg['Cents_kWh'] = dfr['Cents_kWh_Inf_Adj']"
   ]
  },
  {
   "cell_type": "code",
   "execution_count": 6,
   "metadata": {
    "scrolled": true
   },
   "outputs": [
    {
     "data": {
      "text/html": [
       "<div>\n",
       "<style scoped>\n",
       "    .dataframe tbody tr th:only-of-type {\n",
       "        vertical-align: middle;\n",
       "    }\n",
       "\n",
       "    .dataframe tbody tr th {\n",
       "        vertical-align: top;\n",
       "    }\n",
       "\n",
       "    .dataframe thead th {\n",
       "        text-align: right;\n",
       "    }\n",
       "</style>\n",
       "<table border=\"1\" class=\"dataframe\">\n",
       "  <thead>\n",
       "    <tr style=\"text-align: right;\">\n",
       "      <th></th>\n",
       "      <th>Year</th>\n",
       "      <th>State</th>\n",
       "      <th>Coal</th>\n",
       "      <th>Geothermal</th>\n",
       "      <th>Hydroelectric</th>\n",
       "      <th>Natural Gas</th>\n",
       "      <th>Nuclear</th>\n",
       "      <th>Other</th>\n",
       "      <th>Other Gases</th>\n",
       "      <th>Petroleum</th>\n",
       "      <th>Solar Thermal/PV</th>\n",
       "      <th>Total</th>\n",
       "      <th>Wind</th>\n",
       "      <th>Biomass</th>\n",
       "      <th>Cents_kWh</th>\n",
       "    </tr>\n",
       "  </thead>\n",
       "  <tbody>\n",
       "    <tr>\n",
       "      <td>0</td>\n",
       "      <td>1990</td>\n",
       "      <td>AK</td>\n",
       "      <td>510573</td>\n",
       "      <td>0</td>\n",
       "      <td>974521</td>\n",
       "      <td>3466261</td>\n",
       "      <td>0</td>\n",
       "      <td>0</td>\n",
       "      <td>0</td>\n",
       "      <td>497116</td>\n",
       "      <td>0</td>\n",
       "      <td>5599506</td>\n",
       "      <td>0</td>\n",
       "      <td>151035</td>\n",
       "      <td>14.17</td>\n",
       "    </tr>\n",
       "    <tr>\n",
       "      <td>1</td>\n",
       "      <td>1990</td>\n",
       "      <td>AL</td>\n",
       "      <td>53658115</td>\n",
       "      <td>0</td>\n",
       "      <td>10366507</td>\n",
       "      <td>1020714</td>\n",
       "      <td>12051882</td>\n",
       "      <td>0</td>\n",
       "      <td>269476</td>\n",
       "      <td>138089</td>\n",
       "      <td>0</td>\n",
       "      <td>79652133</td>\n",
       "      <td>0</td>\n",
       "      <td>2147350</td>\n",
       "      <td>8.32</td>\n",
       "    </tr>\n",
       "    <tr>\n",
       "      <td>2</td>\n",
       "      <td>1990</td>\n",
       "      <td>AR</td>\n",
       "      <td>19207935</td>\n",
       "      <td>0</td>\n",
       "      <td>3654653</td>\n",
       "      <td>3578573</td>\n",
       "      <td>11282053</td>\n",
       "      <td>0</td>\n",
       "      <td>0</td>\n",
       "      <td>79979</td>\n",
       "      <td>0</td>\n",
       "      <td>39099598</td>\n",
       "      <td>0</td>\n",
       "      <td>1253433</td>\n",
       "      <td>10.01</td>\n",
       "    </tr>\n",
       "    <tr>\n",
       "      <td>3</td>\n",
       "      <td>1990</td>\n",
       "      <td>AZ</td>\n",
       "      <td>31915610</td>\n",
       "      <td>0</td>\n",
       "      <td>7417576</td>\n",
       "      <td>2333900</td>\n",
       "      <td>20597689</td>\n",
       "      <td>0</td>\n",
       "      <td>0</td>\n",
       "      <td>151867</td>\n",
       "      <td>0</td>\n",
       "      <td>62774297</td>\n",
       "      <td>0</td>\n",
       "      <td>107888</td>\n",
       "      <td>11.58</td>\n",
       "    </tr>\n",
       "    <tr>\n",
       "      <td>4</td>\n",
       "      <td>1990</td>\n",
       "      <td>CA</td>\n",
       "      <td>2637677</td>\n",
       "      <td>14521254</td>\n",
       "      <td>23792567</td>\n",
       "      <td>74168308</td>\n",
       "      <td>32692807</td>\n",
       "      <td>0</td>\n",
       "      <td>2146742</td>\n",
       "      <td>5473852</td>\n",
       "      <td>366668</td>\n",
       "      <td>165784909</td>\n",
       "      <td>2758881</td>\n",
       "      <td>6239901</td>\n",
       "      <td>13.21</td>\n",
       "    </tr>\n",
       "  </tbody>\n",
       "</table>\n",
       "</div>"
      ],
      "text/plain": [
       "   Year State      Coal  Geothermal  Hydroelectric  Natural Gas   Nuclear  \\\n",
       "0  1990    AK    510573           0         974521      3466261         0   \n",
       "1  1990    AL  53658115           0       10366507      1020714  12051882   \n",
       "2  1990    AR  19207935           0        3654653      3578573  11282053   \n",
       "3  1990    AZ  31915610           0        7417576      2333900  20597689   \n",
       "4  1990    CA   2637677    14521254       23792567     74168308  32692807   \n",
       "\n",
       "   Other  Other Gases  Petroleum  Solar Thermal/PV      Total     Wind  \\\n",
       "0      0            0     497116                 0    5599506        0   \n",
       "1      0       269476     138089                 0   79652133        0   \n",
       "2      0            0      79979                 0   39099598        0   \n",
       "3      0            0     151867                 0   62774297        0   \n",
       "4      0      2146742    5473852            366668  165784909  2758881   \n",
       "\n",
       "   Biomass  Cents_kWh  \n",
       "0   151035      14.17  \n",
       "1  2147350       8.32  \n",
       "2  1253433      10.01  \n",
       "3   107888      11.58  \n",
       "4  6239901      13.21  "
      ]
     },
     "execution_count": 6,
     "metadata": {},
     "output_type": "execute_result"
    }
   ],
   "source": [
    "dfg.head()"
   ]
  },
  {
   "cell_type": "markdown",
   "metadata": {},
   "source": [
    "## Creating a \"Renewables\" Column"
   ]
  },
  {
   "cell_type": "markdown",
   "metadata": {},
   "source": [
    "Each type of renewable energy is relatively small for most of our time period, except hydroelectric, which is the dominant generation source in some states. For clustering, we will likely want to represent renewables as a whole. For our purposes we will include the sum of hydroelectric, geothermal, biomass, solar, and wind in a \"Renewables\" column. "
   ]
  },
  {
   "cell_type": "code",
   "execution_count": 7,
   "metadata": {},
   "outputs": [],
   "source": [
    "dfg['Renewables'] = dfg['Hydroelectric'] + dfg['Geothermal'] + dfg['Biomass'] + dfg['Solar Thermal/PV'] + dfg['Wind']"
   ]
  },
  {
   "cell_type": "code",
   "execution_count": 8,
   "metadata": {},
   "outputs": [
    {
     "data": {
      "text/html": [
       "<div>\n",
       "<style scoped>\n",
       "    .dataframe tbody tr th:only-of-type {\n",
       "        vertical-align: middle;\n",
       "    }\n",
       "\n",
       "    .dataframe tbody tr th {\n",
       "        vertical-align: top;\n",
       "    }\n",
       "\n",
       "    .dataframe thead th {\n",
       "        text-align: right;\n",
       "    }\n",
       "</style>\n",
       "<table border=\"1\" class=\"dataframe\">\n",
       "  <thead>\n",
       "    <tr style=\"text-align: right;\">\n",
       "      <th></th>\n",
       "      <th>Year</th>\n",
       "      <th>State</th>\n",
       "      <th>Coal</th>\n",
       "      <th>Geothermal</th>\n",
       "      <th>Hydroelectric</th>\n",
       "      <th>Natural Gas</th>\n",
       "      <th>Nuclear</th>\n",
       "      <th>Other</th>\n",
       "      <th>Other Gases</th>\n",
       "      <th>Petroleum</th>\n",
       "      <th>Solar Thermal/PV</th>\n",
       "      <th>Total</th>\n",
       "      <th>Wind</th>\n",
       "      <th>Biomass</th>\n",
       "      <th>Cents_kWh</th>\n",
       "      <th>Renewables</th>\n",
       "    </tr>\n",
       "  </thead>\n",
       "  <tbody>\n",
       "    <tr>\n",
       "      <td>1474</td>\n",
       "      <td>2018</td>\n",
       "      <td>VT</td>\n",
       "      <td>0</td>\n",
       "      <td>0</td>\n",
       "      <td>1268189</td>\n",
       "      <td>1797</td>\n",
       "      <td>0</td>\n",
       "      <td>-296</td>\n",
       "      <td>0</td>\n",
       "      <td>3132</td>\n",
       "      <td>106740</td>\n",
       "      <td>2178915</td>\n",
       "      <td>373346</td>\n",
       "      <td>426008</td>\n",
       "      <td>11.77</td>\n",
       "      <td>2174283</td>\n",
       "    </tr>\n",
       "    <tr>\n",
       "      <td>1475</td>\n",
       "      <td>2018</td>\n",
       "      <td>WA</td>\n",
       "      <td>5382866</td>\n",
       "      <td>0</td>\n",
       "      <td>80883377</td>\n",
       "      <td>10535078</td>\n",
       "      <td>9708441</td>\n",
       "      <td>59265</td>\n",
       "      <td>430840</td>\n",
       "      <td>23656</td>\n",
       "      <td>1695</td>\n",
       "      <td>116756729</td>\n",
       "      <td>7900094</td>\n",
       "      <td>1803179</td>\n",
       "      <td>6.22</td>\n",
       "      <td>90588345</td>\n",
       "    </tr>\n",
       "    <tr>\n",
       "      <td>1476</td>\n",
       "      <td>2018</td>\n",
       "      <td>WI</td>\n",
       "      <td>33322379</td>\n",
       "      <td>0</td>\n",
       "      <td>2392010</td>\n",
       "      <td>16798619</td>\n",
       "      <td>10129122</td>\n",
       "      <td>42631</td>\n",
       "      <td>0</td>\n",
       "      <td>137511</td>\n",
       "      <td>39682</td>\n",
       "      <td>65936767</td>\n",
       "      <td>1637658</td>\n",
       "      <td>1437154</td>\n",
       "      <td>8.23</td>\n",
       "      <td>5506504</td>\n",
       "    </tr>\n",
       "    <tr>\n",
       "      <td>1477</td>\n",
       "      <td>2018</td>\n",
       "      <td>WV</td>\n",
       "      <td>62038835</td>\n",
       "      <td>0</td>\n",
       "      <td>1847643</td>\n",
       "      <td>1420390</td>\n",
       "      <td>0</td>\n",
       "      <td>-11558</td>\n",
       "      <td>24845</td>\n",
       "      <td>158885</td>\n",
       "      <td>0</td>\n",
       "      <td>67249025</td>\n",
       "      <td>1769984</td>\n",
       "      <td>0</td>\n",
       "      <td>6.78</td>\n",
       "      <td>3617627</td>\n",
       "    </tr>\n",
       "    <tr>\n",
       "      <td>1478</td>\n",
       "      <td>2018</td>\n",
       "      <td>WY</td>\n",
       "      <td>39679287</td>\n",
       "      <td>0</td>\n",
       "      <td>975702</td>\n",
       "      <td>896122</td>\n",
       "      <td>0</td>\n",
       "      <td>85266</td>\n",
       "      <td>377641</td>\n",
       "      <td>40136</td>\n",
       "      <td>824</td>\n",
       "      <td>46112136</td>\n",
       "      <td>4057158</td>\n",
       "      <td>0</td>\n",
       "      <td>6.29</td>\n",
       "      <td>5033684</td>\n",
       "    </tr>\n",
       "  </tbody>\n",
       "</table>\n",
       "</div>"
      ],
      "text/plain": [
       "      Year State      Coal  Geothermal  Hydroelectric  Natural Gas   Nuclear  \\\n",
       "1474  2018    VT         0           0        1268189         1797         0   \n",
       "1475  2018    WA   5382866           0       80883377     10535078   9708441   \n",
       "1476  2018    WI  33322379           0        2392010     16798619  10129122   \n",
       "1477  2018    WV  62038835           0        1847643      1420390         0   \n",
       "1478  2018    WY  39679287           0         975702       896122         0   \n",
       "\n",
       "      Other  Other Gases  Petroleum  Solar Thermal/PV      Total     Wind  \\\n",
       "1474   -296            0       3132            106740    2178915   373346   \n",
       "1475  59265       430840      23656              1695  116756729  7900094   \n",
       "1476  42631            0     137511             39682   65936767  1637658   \n",
       "1477 -11558        24845     158885                 0   67249025  1769984   \n",
       "1478  85266       377641      40136               824   46112136  4057158   \n",
       "\n",
       "      Biomass  Cents_kWh  Renewables  \n",
       "1474   426008      11.77     2174283  \n",
       "1475  1803179       6.22    90588345  \n",
       "1476  1437154       8.23     5506504  \n",
       "1477        0       6.78     3617627  \n",
       "1478        0       6.29     5033684  "
      ]
     },
     "execution_count": 8,
     "metadata": {},
     "output_type": "execute_result"
    }
   ],
   "source": [
    "dfg.tail()"
   ]
  },
  {
   "cell_type": "markdown",
   "metadata": {},
   "source": [
    "## Reordering and Transposing"
   ]
  },
  {
   "cell_type": "markdown",
   "metadata": {},
   "source": [
    "Let's reorder our columns which represent generation sources such that non-dispatchable are first, dispatchable are second, and intermittent are last. That way when we start plotting, the order of the stack will be meaningful, with non-dispatchable at the bottom of the plot, dispatchable in the middle, and intermittent at the top."
   ]
  },
  {
   "cell_type": "code",
   "execution_count": 9,
   "metadata": {},
   "outputs": [],
   "source": [
    "columns = ['Year', 'State', 'Coal', 'Nuclear',  'Petroleum',\n",
    "           'Natural Gas',  'Other Gases', 'Other', 'Hydroelectric', 'Geothermal', \n",
    "           'Biomass', 'Solar Thermal/PV', 'Wind', 'Renewables', 'Total', 'Cents_kWh']\n",
    "dfg=dfg.reindex(columns=columns)"
   ]
  },
  {
   "cell_type": "code",
   "execution_count": 10,
   "metadata": {},
   "outputs": [
    {
     "data": {
      "text/html": [
       "<div>\n",
       "<style scoped>\n",
       "    .dataframe tbody tr th:only-of-type {\n",
       "        vertical-align: middle;\n",
       "    }\n",
       "\n",
       "    .dataframe tbody tr th {\n",
       "        vertical-align: top;\n",
       "    }\n",
       "\n",
       "    .dataframe thead th {\n",
       "        text-align: right;\n",
       "    }\n",
       "</style>\n",
       "<table border=\"1\" class=\"dataframe\">\n",
       "  <thead>\n",
       "    <tr style=\"text-align: right;\">\n",
       "      <th></th>\n",
       "      <th>Year</th>\n",
       "      <th>State</th>\n",
       "      <th>Coal</th>\n",
       "      <th>Nuclear</th>\n",
       "      <th>Petroleum</th>\n",
       "      <th>Natural Gas</th>\n",
       "      <th>Other Gases</th>\n",
       "      <th>Other</th>\n",
       "      <th>Hydroelectric</th>\n",
       "      <th>Geothermal</th>\n",
       "      <th>Biomass</th>\n",
       "      <th>Solar Thermal/PV</th>\n",
       "      <th>Wind</th>\n",
       "      <th>Renewables</th>\n",
       "      <th>Total</th>\n",
       "      <th>Cents_kWh</th>\n",
       "    </tr>\n",
       "  </thead>\n",
       "  <tbody>\n",
       "    <tr>\n",
       "      <td>0</td>\n",
       "      <td>1990</td>\n",
       "      <td>AK</td>\n",
       "      <td>510573</td>\n",
       "      <td>0</td>\n",
       "      <td>497116</td>\n",
       "      <td>3466261</td>\n",
       "      <td>0</td>\n",
       "      <td>0</td>\n",
       "      <td>974521</td>\n",
       "      <td>0</td>\n",
       "      <td>151035</td>\n",
       "      <td>0</td>\n",
       "      <td>0</td>\n",
       "      <td>1125556</td>\n",
       "      <td>5599506</td>\n",
       "      <td>14.17</td>\n",
       "    </tr>\n",
       "    <tr>\n",
       "      <td>1</td>\n",
       "      <td>1990</td>\n",
       "      <td>AL</td>\n",
       "      <td>53658115</td>\n",
       "      <td>12051882</td>\n",
       "      <td>138089</td>\n",
       "      <td>1020714</td>\n",
       "      <td>269476</td>\n",
       "      <td>0</td>\n",
       "      <td>10366507</td>\n",
       "      <td>0</td>\n",
       "      <td>2147350</td>\n",
       "      <td>0</td>\n",
       "      <td>0</td>\n",
       "      <td>12513857</td>\n",
       "      <td>79652133</td>\n",
       "      <td>8.32</td>\n",
       "    </tr>\n",
       "    <tr>\n",
       "      <td>2</td>\n",
       "      <td>1990</td>\n",
       "      <td>AR</td>\n",
       "      <td>19207935</td>\n",
       "      <td>11282053</td>\n",
       "      <td>79979</td>\n",
       "      <td>3578573</td>\n",
       "      <td>0</td>\n",
       "      <td>0</td>\n",
       "      <td>3654653</td>\n",
       "      <td>0</td>\n",
       "      <td>1253433</td>\n",
       "      <td>0</td>\n",
       "      <td>0</td>\n",
       "      <td>4908086</td>\n",
       "      <td>39099598</td>\n",
       "      <td>10.01</td>\n",
       "    </tr>\n",
       "    <tr>\n",
       "      <td>3</td>\n",
       "      <td>1990</td>\n",
       "      <td>AZ</td>\n",
       "      <td>31915610</td>\n",
       "      <td>20597689</td>\n",
       "      <td>151867</td>\n",
       "      <td>2333900</td>\n",
       "      <td>0</td>\n",
       "      <td>0</td>\n",
       "      <td>7417576</td>\n",
       "      <td>0</td>\n",
       "      <td>107888</td>\n",
       "      <td>0</td>\n",
       "      <td>0</td>\n",
       "      <td>7525464</td>\n",
       "      <td>62774297</td>\n",
       "      <td>11.58</td>\n",
       "    </tr>\n",
       "    <tr>\n",
       "      <td>4</td>\n",
       "      <td>1990</td>\n",
       "      <td>CA</td>\n",
       "      <td>2637677</td>\n",
       "      <td>32692807</td>\n",
       "      <td>5473852</td>\n",
       "      <td>74168308</td>\n",
       "      <td>2146742</td>\n",
       "      <td>0</td>\n",
       "      <td>23792567</td>\n",
       "      <td>14521254</td>\n",
       "      <td>6239901</td>\n",
       "      <td>366668</td>\n",
       "      <td>2758881</td>\n",
       "      <td>47679271</td>\n",
       "      <td>165784909</td>\n",
       "      <td>13.21</td>\n",
       "    </tr>\n",
       "  </tbody>\n",
       "</table>\n",
       "</div>"
      ],
      "text/plain": [
       "   Year State      Coal   Nuclear  Petroleum  Natural Gas  Other Gases  Other  \\\n",
       "0  1990    AK    510573         0     497116      3466261            0      0   \n",
       "1  1990    AL  53658115  12051882     138089      1020714       269476      0   \n",
       "2  1990    AR  19207935  11282053      79979      3578573            0      0   \n",
       "3  1990    AZ  31915610  20597689     151867      2333900            0      0   \n",
       "4  1990    CA   2637677  32692807    5473852     74168308      2146742      0   \n",
       "\n",
       "   Hydroelectric  Geothermal  Biomass  Solar Thermal/PV     Wind  Renewables  \\\n",
       "0         974521           0   151035                 0        0     1125556   \n",
       "1       10366507           0  2147350                 0        0    12513857   \n",
       "2        3654653           0  1253433                 0        0     4908086   \n",
       "3        7417576           0   107888                 0        0     7525464   \n",
       "4       23792567    14521254  6239901            366668  2758881    47679271   \n",
       "\n",
       "       Total  Cents_kWh  \n",
       "0    5599506      14.17  \n",
       "1   79652133       8.32  \n",
       "2   39099598      10.01  \n",
       "3   62774297      11.58  \n",
       "4  165784909      13.21  "
      ]
     },
     "execution_count": 10,
     "metadata": {},
     "output_type": "execute_result"
    }
   ],
   "source": [
    "dfg.head()"
   ]
  },
  {
   "cell_type": "markdown",
   "metadata": {},
   "source": [
    "## Normalizing Generation Totals"
   ]
  },
  {
   "cell_type": "markdown",
   "metadata": {},
   "source": [
    "Our generation data is given by EIA in megawatt hours (MWh). For our purposes we prefer the data to be scaled such that each generation source is expressed as a fraction of the state's total. The first step is to transpose the dataframe, as it is quite convenient to operate on columns:"
   ]
  },
  {
   "cell_type": "code",
   "execution_count": 11,
   "metadata": {},
   "outputs": [
    {
     "data": {
      "text/html": [
       "<div>\n",
       "<style scoped>\n",
       "    .dataframe tbody tr th:only-of-type {\n",
       "        vertical-align: middle;\n",
       "    }\n",
       "\n",
       "    .dataframe tbody tr th {\n",
       "        vertical-align: top;\n",
       "    }\n",
       "\n",
       "    .dataframe thead th {\n",
       "        text-align: right;\n",
       "    }\n",
       "</style>\n",
       "<table border=\"1\" class=\"dataframe\">\n",
       "  <thead>\n",
       "    <tr style=\"text-align: right;\">\n",
       "      <th></th>\n",
       "      <th>0</th>\n",
       "    </tr>\n",
       "  </thead>\n",
       "  <tbody>\n",
       "    <tr>\n",
       "      <td>Year</td>\n",
       "      <td>1990</td>\n",
       "    </tr>\n",
       "    <tr>\n",
       "      <td>State</td>\n",
       "      <td>AK</td>\n",
       "    </tr>\n",
       "    <tr>\n",
       "      <td>Coal</td>\n",
       "      <td>510573</td>\n",
       "    </tr>\n",
       "    <tr>\n",
       "      <td>Nuclear</td>\n",
       "      <td>0</td>\n",
       "    </tr>\n",
       "    <tr>\n",
       "      <td>Petroleum</td>\n",
       "      <td>497116</td>\n",
       "    </tr>\n",
       "    <tr>\n",
       "      <td>Natural Gas</td>\n",
       "      <td>3466261</td>\n",
       "    </tr>\n",
       "    <tr>\n",
       "      <td>Other Gases</td>\n",
       "      <td>0</td>\n",
       "    </tr>\n",
       "    <tr>\n",
       "      <td>Other</td>\n",
       "      <td>0</td>\n",
       "    </tr>\n",
       "    <tr>\n",
       "      <td>Hydroelectric</td>\n",
       "      <td>974521</td>\n",
       "    </tr>\n",
       "    <tr>\n",
       "      <td>Geothermal</td>\n",
       "      <td>0</td>\n",
       "    </tr>\n",
       "    <tr>\n",
       "      <td>Biomass</td>\n",
       "      <td>151035</td>\n",
       "    </tr>\n",
       "    <tr>\n",
       "      <td>Solar Thermal/PV</td>\n",
       "      <td>0</td>\n",
       "    </tr>\n",
       "    <tr>\n",
       "      <td>Wind</td>\n",
       "      <td>0</td>\n",
       "    </tr>\n",
       "    <tr>\n",
       "      <td>Renewables</td>\n",
       "      <td>1125556</td>\n",
       "    </tr>\n",
       "    <tr>\n",
       "      <td>Total</td>\n",
       "      <td>5599506</td>\n",
       "    </tr>\n",
       "    <tr>\n",
       "      <td>Cents_kWh</td>\n",
       "      <td>14.17</td>\n",
       "    </tr>\n",
       "  </tbody>\n",
       "</table>\n",
       "</div>"
      ],
      "text/plain": [
       "                        0\n",
       "Year                 1990\n",
       "State                  AK\n",
       "Coal               510573\n",
       "Nuclear                 0\n",
       "Petroleum          497116\n",
       "Natural Gas       3466261\n",
       "Other Gases             0\n",
       "Other                   0\n",
       "Hydroelectric      974521\n",
       "Geothermal              0\n",
       "Biomass            151035\n",
       "Solar Thermal/PV        0\n",
       "Wind                    0\n",
       "Renewables        1125556\n",
       "Total             5599506\n",
       "Cents_kWh           14.17"
      ]
     },
     "execution_count": 11,
     "metadata": {},
     "output_type": "execute_result"
    }
   ],
   "source": [
    "dfg_transposed = dfg.T\n",
    "\n",
    "# Here is an example of what one of the transposed rows looks like:\n",
    "dfg_transposed[[0]]"
   ]
  },
  {
   "cell_type": "markdown",
   "metadata": {},
   "source": [
    "This loop will normalize our generation data:"
   ]
  },
  {
   "cell_type": "code",
   "execution_count": 12,
   "metadata": {},
   "outputs": [],
   "source": [
    "for i in range(len(dfg_transposed.columns)):\n",
    "    dfg_transposed[i][2:15] = dfg_transposed[i][2:15] / dfg_transposed[i][14]"
   ]
  },
  {
   "cell_type": "code",
   "execution_count": 13,
   "metadata": {},
   "outputs": [
    {
     "data": {
      "text/html": [
       "<div>\n",
       "<style scoped>\n",
       "    .dataframe tbody tr th:only-of-type {\n",
       "        vertical-align: middle;\n",
       "    }\n",
       "\n",
       "    .dataframe tbody tr th {\n",
       "        vertical-align: top;\n",
       "    }\n",
       "\n",
       "    .dataframe thead th {\n",
       "        text-align: right;\n",
       "    }\n",
       "</style>\n",
       "<table border=\"1\" class=\"dataframe\">\n",
       "  <thead>\n",
       "    <tr style=\"text-align: right;\">\n",
       "      <th></th>\n",
       "      <th>0</th>\n",
       "    </tr>\n",
       "  </thead>\n",
       "  <tbody>\n",
       "    <tr>\n",
       "      <td>Year</td>\n",
       "      <td>1990</td>\n",
       "    </tr>\n",
       "    <tr>\n",
       "      <td>State</td>\n",
       "      <td>AK</td>\n",
       "    </tr>\n",
       "    <tr>\n",
       "      <td>Coal</td>\n",
       "      <td>0.0911818</td>\n",
       "    </tr>\n",
       "    <tr>\n",
       "      <td>Nuclear</td>\n",
       "      <td>0</td>\n",
       "    </tr>\n",
       "    <tr>\n",
       "      <td>Petroleum</td>\n",
       "      <td>0.0887785</td>\n",
       "    </tr>\n",
       "    <tr>\n",
       "      <td>Natural Gas</td>\n",
       "      <td>0.61903</td>\n",
       "    </tr>\n",
       "    <tr>\n",
       "      <td>Other Gases</td>\n",
       "      <td>0</td>\n",
       "    </tr>\n",
       "    <tr>\n",
       "      <td>Other</td>\n",
       "      <td>0</td>\n",
       "    </tr>\n",
       "    <tr>\n",
       "      <td>Hydroelectric</td>\n",
       "      <td>0.174037</td>\n",
       "    </tr>\n",
       "    <tr>\n",
       "      <td>Geothermal</td>\n",
       "      <td>0</td>\n",
       "    </tr>\n",
       "    <tr>\n",
       "      <td>Biomass</td>\n",
       "      <td>0.0269729</td>\n",
       "    </tr>\n",
       "    <tr>\n",
       "      <td>Solar Thermal/PV</td>\n",
       "      <td>0</td>\n",
       "    </tr>\n",
       "    <tr>\n",
       "      <td>Wind</td>\n",
       "      <td>0</td>\n",
       "    </tr>\n",
       "    <tr>\n",
       "      <td>Renewables</td>\n",
       "      <td>0.20101</td>\n",
       "    </tr>\n",
       "    <tr>\n",
       "      <td>Total</td>\n",
       "      <td>1</td>\n",
       "    </tr>\n",
       "    <tr>\n",
       "      <td>Cents_kWh</td>\n",
       "      <td>14.17</td>\n",
       "    </tr>\n",
       "  </tbody>\n",
       "</table>\n",
       "</div>"
      ],
      "text/plain": [
       "                          0\n",
       "Year                   1990\n",
       "State                    AK\n",
       "Coal              0.0911818\n",
       "Nuclear                   0\n",
       "Petroleum         0.0887785\n",
       "Natural Gas         0.61903\n",
       "Other Gases               0\n",
       "Other                     0\n",
       "Hydroelectric      0.174037\n",
       "Geothermal                0\n",
       "Biomass           0.0269729\n",
       "Solar Thermal/PV          0\n",
       "Wind                      0\n",
       "Renewables          0.20101\n",
       "Total                     1\n",
       "Cents_kWh             14.17"
      ]
     },
     "execution_count": 13,
     "metadata": {},
     "output_type": "execute_result"
    }
   ],
   "source": [
    "# Here is an example of a normalized column. Note that \"Cents_kWh\" is not altered:\n",
    "dfg_transposed[[0]]"
   ]
  },
  {
   "cell_type": "markdown",
   "metadata": {},
   "source": [
    "Now we'll undo the transposition"
   ]
  },
  {
   "cell_type": "code",
   "execution_count": 14,
   "metadata": {},
   "outputs": [
    {
     "data": {
      "text/html": [
       "<div>\n",
       "<style scoped>\n",
       "    .dataframe tbody tr th:only-of-type {\n",
       "        vertical-align: middle;\n",
       "    }\n",
       "\n",
       "    .dataframe tbody tr th {\n",
       "        vertical-align: top;\n",
       "    }\n",
       "\n",
       "    .dataframe thead th {\n",
       "        text-align: right;\n",
       "    }\n",
       "</style>\n",
       "<table border=\"1\" class=\"dataframe\">\n",
       "  <thead>\n",
       "    <tr style=\"text-align: right;\">\n",
       "      <th></th>\n",
       "      <th>Year</th>\n",
       "      <th>State</th>\n",
       "      <th>Coal</th>\n",
       "      <th>Nuclear</th>\n",
       "      <th>Petroleum</th>\n",
       "      <th>Natural Gas</th>\n",
       "      <th>Other Gases</th>\n",
       "      <th>Other</th>\n",
       "      <th>Hydroelectric</th>\n",
       "      <th>Geothermal</th>\n",
       "      <th>Biomass</th>\n",
       "      <th>Solar Thermal/PV</th>\n",
       "      <th>Wind</th>\n",
       "      <th>Renewables</th>\n",
       "      <th>Total</th>\n",
       "      <th>Cents_kWh</th>\n",
       "    </tr>\n",
       "  </thead>\n",
       "  <tbody>\n",
       "    <tr>\n",
       "      <td>0</td>\n",
       "      <td>1990</td>\n",
       "      <td>AK</td>\n",
       "      <td>0.0911818</td>\n",
       "      <td>0</td>\n",
       "      <td>0.0887785</td>\n",
       "      <td>0.61903</td>\n",
       "      <td>0</td>\n",
       "      <td>0</td>\n",
       "      <td>0.174037</td>\n",
       "      <td>0</td>\n",
       "      <td>0.0269729</td>\n",
       "      <td>0</td>\n",
       "      <td>0</td>\n",
       "      <td>0.20101</td>\n",
       "      <td>1</td>\n",
       "      <td>14.17</td>\n",
       "    </tr>\n",
       "    <tr>\n",
       "      <td>1</td>\n",
       "      <td>1990</td>\n",
       "      <td>AL</td>\n",
       "      <td>0.673656</td>\n",
       "      <td>0.151306</td>\n",
       "      <td>0.00173365</td>\n",
       "      <td>0.0128146</td>\n",
       "      <td>0.00338316</td>\n",
       "      <td>0</td>\n",
       "      <td>0.130147</td>\n",
       "      <td>0</td>\n",
       "      <td>0.0269591</td>\n",
       "      <td>0</td>\n",
       "      <td>0</td>\n",
       "      <td>0.157106</td>\n",
       "      <td>1</td>\n",
       "      <td>8.32</td>\n",
       "    </tr>\n",
       "    <tr>\n",
       "      <td>2</td>\n",
       "      <td>1990</td>\n",
       "      <td>AR</td>\n",
       "      <td>0.491257</td>\n",
       "      <td>0.288547</td>\n",
       "      <td>0.00204552</td>\n",
       "      <td>0.0915245</td>\n",
       "      <td>0</td>\n",
       "      <td>0</td>\n",
       "      <td>0.0934703</td>\n",
       "      <td>0</td>\n",
       "      <td>0.0320574</td>\n",
       "      <td>0</td>\n",
       "      <td>0</td>\n",
       "      <td>0.125528</td>\n",
       "      <td>1</td>\n",
       "      <td>10.01</td>\n",
       "    </tr>\n",
       "    <tr>\n",
       "      <td>3</td>\n",
       "      <td>1990</td>\n",
       "      <td>AZ</td>\n",
       "      <td>0.508418</td>\n",
       "      <td>0.328123</td>\n",
       "      <td>0.00241925</td>\n",
       "      <td>0.0371792</td>\n",
       "      <td>0</td>\n",
       "      <td>0</td>\n",
       "      <td>0.118163</td>\n",
       "      <td>0</td>\n",
       "      <td>0.00171867</td>\n",
       "      <td>0</td>\n",
       "      <td>0</td>\n",
       "      <td>0.119881</td>\n",
       "      <td>1</td>\n",
       "      <td>11.58</td>\n",
       "    </tr>\n",
       "    <tr>\n",
       "      <td>4</td>\n",
       "      <td>1990</td>\n",
       "      <td>CA</td>\n",
       "      <td>0.0159102</td>\n",
       "      <td>0.1972</td>\n",
       "      <td>0.0330178</td>\n",
       "      <td>0.447377</td>\n",
       "      <td>0.012949</td>\n",
       "      <td>0</td>\n",
       "      <td>0.143515</td>\n",
       "      <td>0.0875909</td>\n",
       "      <td>0.0376385</td>\n",
       "      <td>0.00221171</td>\n",
       "      <td>0.0166413</td>\n",
       "      <td>0.287597</td>\n",
       "      <td>1</td>\n",
       "      <td>13.21</td>\n",
       "    </tr>\n",
       "  </tbody>\n",
       "</table>\n",
       "</div>"
      ],
      "text/plain": [
       "   Year State       Coal   Nuclear   Petroleum Natural Gas Other Gases Other  \\\n",
       "0  1990    AK  0.0911818         0   0.0887785     0.61903           0     0   \n",
       "1  1990    AL   0.673656  0.151306  0.00173365   0.0128146  0.00338316     0   \n",
       "2  1990    AR   0.491257  0.288547  0.00204552   0.0915245           0     0   \n",
       "3  1990    AZ   0.508418  0.328123  0.00241925   0.0371792           0     0   \n",
       "4  1990    CA  0.0159102    0.1972   0.0330178    0.447377    0.012949     0   \n",
       "\n",
       "  Hydroelectric Geothermal     Biomass Solar Thermal/PV       Wind Renewables  \\\n",
       "0      0.174037          0   0.0269729                0          0    0.20101   \n",
       "1      0.130147          0   0.0269591                0          0   0.157106   \n",
       "2     0.0934703          0   0.0320574                0          0   0.125528   \n",
       "3      0.118163          0  0.00171867                0          0   0.119881   \n",
       "4      0.143515  0.0875909   0.0376385       0.00221171  0.0166413   0.287597   \n",
       "\n",
       "  Total Cents_kWh  \n",
       "0     1     14.17  \n",
       "1     1      8.32  \n",
       "2     1     10.01  \n",
       "3     1     11.58  \n",
       "4     1     13.21  "
      ]
     },
     "execution_count": 14,
     "metadata": {},
     "output_type": "execute_result"
    }
   ],
   "source": [
    "dfg = dfg_transposed.T\n",
    "dfg.head()"
   ]
  },
  {
   "cell_type": "markdown",
   "metadata": {},
   "source": [
    "We no longer need the 'Total\" column. Its only purpose was to allow us to normalize, so we can safely drop it:"
   ]
  },
  {
   "cell_type": "code",
   "execution_count": 15,
   "metadata": {},
   "outputs": [],
   "source": [
    "dfg.drop(columns='Total', inplace=True)"
   ]
  },
  {
   "cell_type": "markdown",
   "metadata": {},
   "source": [
    "In the transposition, we lost our preferred datatypes, so we will reset them below:"
   ]
  },
  {
   "cell_type": "code",
   "execution_count": 16,
   "metadata": {
    "scrolled": false
   },
   "outputs": [
    {
     "data": {
      "text/plain": [
       "Year         object\n",
       "State        object\n",
       "Coal         object\n",
       "Nuclear      object\n",
       "Petroleum    object\n",
       "dtype: object"
      ]
     },
     "execution_count": 16,
     "metadata": {},
     "output_type": "execute_result"
    }
   ],
   "source": [
    "dfg.dtypes.head()"
   ]
  },
  {
   "cell_type": "code",
   "execution_count": 17,
   "metadata": {},
   "outputs": [],
   "source": [
    "cols = dfg.columns.drop('State')\n",
    "dfg[cols] = dfg[cols].apply(pd.to_numeric, errors='coerce')"
   ]
  },
  {
   "cell_type": "markdown",
   "metadata": {},
   "source": [
    "## Grouping Renewables"
   ]
  },
  {
   "cell_type": "markdown",
   "metadata": {},
   "source": [
    "Here we define collections of columns for use in visualization and clutsering. We will have the option of working with renewables as a combined total, or individually. When renewables are represented independently, they will be color coded in the most intuitive way possible: \n",
    "\n",
    "Hydro - blue<br>\n",
    "Geothermal - brown<br>\n",
    "Biomass - green<br>\n",
    "Solar - gold<br>\n",
    "Wind - sky blue<br>\n",
    "\n",
    "If renewables are represented a combined group, they will be green of course!"
   ]
  },
  {
   "cell_type": "code",
   "execution_count": 18,
   "metadata": {
    "code_folding": []
   },
   "outputs": [],
   "source": [
    "# This column list is for cases where we want to represent\n",
    "# each of the 5 renewable generation sources independently\n",
    "gen_cols = ['Coal', 'Nuclear', 'Petroleum', 'Natural Gas',\n",
    "            'Other Gases', 'Other', 'Hydroelectric', 'Geothermal',\n",
    "            'Biomass','Solar Thermal/PV', 'Wind']\n",
    "\n",
    "# Renewables will be color-coded in the most intuive way possible\n",
    "# Hydro = blue, Geothermal = brown, Biomass = green, Solar = gold, Wind = skyblue\n",
    "gen_colors=['black', 'rebeccapurple', 'whitesmoke', \n",
    "            'silver', 'slategray', 'plum',\n",
    "            'royalblue', 'saddlebrown', 'green', 'gold', 'skyblue']\n",
    "\n",
    "# This column list excludes the 5 renewable sources and includes instead\n",
    "# the total of those 5, \"Renewables\"\n",
    "ren_cols = ['Coal', 'Nuclear', 'Petroleum', 'Natural Gas',\n",
    "            'Other Gases', 'Other', 'Renewables']\n",
    "\n",
    "# If renewables are plotted as a group, they will be green\n",
    "ren_colors = ['black', 'rebeccapurple', 'whitesmoke', \n",
    "              'silver', 'slategray', 'plum', 'green']"
   ]
  },
  {
   "cell_type": "markdown",
   "metadata": {},
   "source": [
    "# Visualization Functions"
   ]
  },
  {
   "cell_type": "markdown",
   "metadata": {},
   "source": [
    "There are two ways we will want to be able to visualize generation profile: \n",
    "\n",
    "1) Each type of renewable generation represented as its own category<br>\n",
    "2) All renewables are represented as one category\n",
    "\n",
    "The \"all renewables\" category will be important when we begin using clustering algorithms. In most states individually they are small compared to fossil fuel generation, and would not factor into clustering significantly unless combined into one category. "
   ]
  },
  {
   "cell_type": "markdown",
   "metadata": {},
   "source": [
    "## Stackplots"
   ]
  },
  {
   "cell_type": "markdown",
   "metadata": {},
   "source": [
    "Stackplots allow us to visualize each state for the entire available period of 1990-2018. This plot expresses a lot of information. By color it is easy to discern generation source over time, and positioning in the stack indicates dispatchability, intermittency, and emissions:\n",
    "\n",
    "- Wind and solar, zero-emissions and intermittent, are on top, in sky blue and gold\n",
    "- Biomass and geothermal, zero-emissions and renewable but non-dispatchable, are in green and brown.\n",
    "- Hydroelectric, both renewable and dispatchable, is in blue.\n",
    "- Dispatchable fossil fuels, which pair well with intermittent renewables, and in the middle layers, in white to gray shades.\n",
    "- Nuclear and coal, non-dispatchable generation sources, are at the bottom, in purple and black. \n",
    "\n",
    "If a visualization with one combined renewables category is desirable, wind, solar, biomass, geothernal, and hydroelectric are together green."
   ]
  },
  {
   "cell_type": "markdown",
   "metadata": {},
   "source": [
    "### Stackplot"
   ]
  },
  {
   "cell_type": "code",
   "execution_count": 19,
   "metadata": {},
   "outputs": [],
   "source": [
    "def stackplot(dataframe, state, columns, figsize1, figsize2):\n",
    "    \n",
    "    x = list(dataframe['Year'].unique())  # getting our list of years for x-axis\n",
    "    fig, ax = plt.subplots(figsize = (figsize1, figsize2))\n",
    "    \n",
    "    # we can either display each renewable gen source separately:\n",
    "    if columns == \"gen_cols\":\n",
    "        y = dataframe[dataframe['State'] == state].iloc[:, 2:13].T.values.tolist()\n",
    "        ax.stackplot(x, y, labels=gen_cols, colors=gen_colors)\n",
    "    # or we can use the combined renewables column:\n",
    "    else:\n",
    "        y = dataframe[dataframe['State'] == state].iloc[:, np.r_[2:8,13]].T.values.tolist()        \n",
    "        ax.stackplot(x, y, labels=ren_cols, colors=ren_colors)\n",
    "    \n",
    "    # placing the legend\n",
    "    handles, labels = ax.get_legend_handles_labels()\n",
    "    ax.legend(reversed(handles), reversed(labels), loc='upper left', bbox_to_anchor=(1, 1), prop={'size':16})\n",
    "    \n",
    "    ax.set_title(\"{} Electricity Generation from 1990-2018\".format(state), fontsize=28)\n",
    "    ax.set_xlabel(\"Year\", size=24)\n",
    "    ax.set_ylabel(\"Generation Source Fraction\", size=24)\n",
    "    plt.yticks(fontsize=20)\n",
    "    plt.xticks(fontsize=20)\n",
    "    plt.box(on=None)"
   ]
  },
  {
   "cell_type": "code",
   "execution_count": 20,
   "metadata": {
    "scrolled": true
   },
   "outputs": [
    {
     "data": {
      "image/png": "[encoded data removed]",
      "text/plain": [
       "<Figure size 864x648 with 1 Axes>"
      ]
     },
     "metadata": {
      "needs_background": "light"
     },
     "output_type": "display_data"
    }
   ],
   "source": [
    "stackplot(dfg, \"CA\", \"gen_cols\", 12, 9)"
   ]
  },
  {
   "cell_type": "markdown",
   "metadata": {},
   "source": [
    "**Interpretation**: California is an interesting case, as the state with the most progressive environmental policies for most of the time period analyzed. It's clear California started deploying renewables early, but at relatively small scale. Starting around 2011, solar began growing rapidly, while nuclear declined due to the closure of the San Onofre plant in 2013. Droughts, when gas took the place of hydroelectric, are also discernable."
   ]
  },
  {
   "cell_type": "markdown",
   "metadata": {},
   "source": [
    "### Stackplot Subplots"
   ]
  },
  {
   "cell_type": "code",
   "execution_count": 21,
   "metadata": {},
   "outputs": [],
   "source": [
    "def stackplots(dataframe, states, columns):\n",
    "    \n",
    "    # laying out our two columns of plots\n",
    "    nrows = int(np.ceil(len(states)/2))\n",
    "    height = nrows * 6\n",
    "    fig, ax = plt.subplots(nrows=nrows, ncols=2, figsize = (18,height))\n",
    "    ax = ax.ravel()\n",
    "    \n",
    "    for i, state in enumerate(states):\n",
    "        \n",
    "        # getting our list of years for x-axis\n",
    "        x = list(dataframe['Year'].unique())\n",
    "        \n",
    "        # we can either display each renewable gen source separately:\n",
    "        if columns == \"gen_cols\":\n",
    "            y = dataframe[dataframe['State'] == state].iloc[:, 2:13].T.values.tolist()\n",
    "            ax[i].stackplot(x, y, labels=gen_cols, colors=gen_colors)\n",
    "        \n",
    "        # or we can use the combined renewables column:\n",
    "        else:\n",
    "            y = dataframe[dataframe['State'] == state].iloc[:, np.r_[2:8,13]].T.values.tolist()        \n",
    "            ax[i].stackplot(x, y, labels=ren_cols, colors=ren_colors)\n",
    "            \n",
    "        ax[i].set_title(\"{} Electricity Generation from 1990-2018\".format(states[i]), size=20)\n",
    "        ax[i].set_xlabel(\"Year\", size=18)\n",
    "        ax[i].set_ylabel(\"Generation Source Fraction\", size=18)\n",
    "        \n",
    "        # placing the legend\n",
    "        handles, labels = ax[i].get_legend_handles_labels()\n",
    "        ax[i].legend(reversed(handles), reversed(labels), loc='upper left', prop={'size':8})\n",
    "        \n",
    "        #Turn off odd number of subplots\n",
    "        if len(states) % 2 == 1:       \n",
    "            ax[-1].axis('off')\n",
    "    \n",
    "    # beautification\n",
    "    plt.tight_layout(h_pad = 3, w_pad = 2)\n",
    "    plt.grid(True)\n",
    "    plt.box(on=None)"
   ]
  },
  {
   "cell_type": "code",
   "execution_count": null,
   "metadata": {
    "scrolled": false
   },
   "outputs": [],
   "source": [
    "stackplots(dfg, ['TX', 'CA', 'AZ', 'NM', 'CO', 'UT', 'HI', 'FL'], \"gen_cols\")"
   ]
  },
  {
   "cell_type": "markdown",
   "metadata": {},
   "source": [
    "**Interpretation:** These eightstates represent those with the greatest solar resource according to NREL. With the proper regulatory framework, all would be poised for a rapid increase in solar generation, such as California is already experiencing. "
   ]
  },
  {
   "cell_type": "markdown",
   "metadata": {},
   "source": [
    "## Barplots"
   ]
  },
  {
   "cell_type": "markdown",
   "metadata": {},
   "source": [
    "Bar plots allow us to visualize a state at a given point in time. This plot is much easier to interpret at a glance than the stackplot, and allows us to offer a high-level snapshot of a group of states. We retain the color scheme from the stackplot for consistency.\n",
    "\n",
    "As with stackplots, a function is available to visualize with each renewable its own color-coded bar, or with one combined renewables category in green."
   ]
  },
  {
   "cell_type": "markdown",
   "metadata": {},
   "source": [
    "### Bar Plot"
   ]
  },
  {
   "cell_type": "code",
   "execution_count": null,
   "metadata": {},
   "outputs": [],
   "source": [
    "def barplot(dataframe, state, columns, year, figsize1, figsize2):\n",
    "\n",
    "    fig, ax = plt.subplots(figsize = (figsize1, figsize2))\n",
    "    \n",
    "    # we can either display each renewable gen source separately:\n",
    "    if columns == \"gen_cols\":\n",
    "        height = dataframe.loc[(dataframe['State'] == state) & (dataframe['Year'] == year)].iloc[:, 2:13].T.squeeze()\n",
    "        ax.bar(x=gen_cols, height=height, color=gen_colors, edgecolor='black')\n",
    "    \n",
    "    # or we can use the combined renewables column:\n",
    "    else:\n",
    "        height = dataframe.loc[(dataframe['State'] == state) & (dataframe['Year'] == year)].iloc[:, np.r_[2:8,13]].T.squeeze()\n",
    "        ax.bar(x=ren_cols, height=height, color=ren_colors, edgecolor='black')    \n",
    "    \n",
    "    ax.set_title(\"{} Electricity Generation in {}\".format(state, year), fontsize=28)\n",
    "    ax.set_xlabel(\"Source\", size=24)\n",
    "    ax.set_ylabel(\"Generation Source Fraction\", size=24)\n",
    "    plt.yticks(fontsize=20)\n",
    "    plt.xticks(fontsize=20, rotation = 55, ha=\"right\")"
   ]
  },
  {
   "cell_type": "code",
   "execution_count": null,
   "metadata": {
    "scrolled": false
   },
   "outputs": [],
   "source": [
    "barplot(dfg, \"ID\", \"gen_cols\", 2018, 12, 9)"
   ]
  },
  {
   "cell_type": "markdown",
   "metadata": {},
   "source": [
    "**Interpretation:** Idaho is blessed with abundant hydroelectric resources, making it a top state for overall renewable generation profile. Natural gas and wind are both significant sources. Idaho likely has the opportunity to integrate more renewable generation at the expense of natural gas due to the dispatchability of hydroelectric to balance the intermittency of wind and solar."
   ]
  },
  {
   "cell_type": "markdown",
   "metadata": {},
   "source": [
    "### Bar Plots Subplots"
   ]
  },
  {
   "cell_type": "code",
   "execution_count": null,
   "metadata": {},
   "outputs": [],
   "source": [
    "def barplots(dataframe, states, columns, year):\n",
    "    nrows = int(np.ceil(len(states)/2))\n",
    "    height = nrows * 7\n",
    "    fig, ax = plt.subplots(nrows=nrows, ncols=2, figsize = (18,height))\n",
    "    ax = ax.ravel()\n",
    "    for i, state in enumerate(states):\n",
    "        \n",
    "        # we can either display each renewable gen source separately:\n",
    "        if columns == \"gen_cols\":\n",
    "            barheight = dataframe.loc[(dataframe['State'] == state) & (dataframe['Year'] == year)].iloc[:, 2:13].T.squeeze()\n",
    "            ax[i].bar(x=gen_cols, height=barheight, color=gen_colors, edgecolor='black')\n",
    "            ax[i].set_xticklabels(labels=gen_cols, rotation=45, ha='right')\n",
    "        \n",
    "        # or we can use the combined renewables column:\n",
    "        else:\n",
    "            barheight = dataframe.loc[(dataframe['State'] == state) & (dataframe['Year'] == year)].iloc[:, np.r_[2:8,13]].T.squeeze()       \n",
    "            ax[i].bar(x=ren_cols, height=barheight, color=ren_colors, edgecolor='black') \n",
    "            ax[i].set_xticklabels(labels=ren_cols, rotation=55, ha='right')\n",
    "    \n",
    "        ax[i].set_title(\"{} Electricity Generation in {}\".format(state, year), fontsize=28)\n",
    "        ax[i].set_xlabel(\"Source\", size=24)\n",
    "        ax[i].set_ylabel(\"Gen. Source Fraction\", size=24)\n",
    "        ax[i].tick_params(labelsize=14)\n",
    "        plt.tight_layout(h_pad = 3, w_pad = 2)\n",
    "        \n",
    "        #Turn off odd number of subplots\n",
    "        if len(states) % 2 == 1:       \n",
    "            ax[-1].axis('off')"
   ]
  },
  {
   "cell_type": "code",
   "execution_count": null,
   "metadata": {
    "scrolled": false
   },
   "outputs": [],
   "source": [
    "barplots(dfg, ['NJ', 'NY', 'CT'], \"gen_cols\", 2018)"
   ]
  },
  {
   "cell_type": "markdown",
   "metadata": {},
   "source": [
    "**Interpretation:** Here we can see the tri-state area's current generation profile. The states are very similar with natural gas and nuclear generating the great majority of electricity. NY State has geographic advantages of open land for wind generation and damnable rivers for hydroelectric."
   ]
  },
  {
   "cell_type": "markdown",
   "metadata": {},
   "source": [
    "# Clustering States by Generation Profile"
   ]
  },
  {
   "cell_type": "markdown",
   "metadata": {},
   "source": [
    "## K-Means Clustering"
   ]
  },
  {
   "cell_type": "markdown",
   "metadata": {},
   "source": [
    "K-Means clustering requires all data points to be part of a cluster. This is sometimes considered a disadvantage of the algorithm, but with only 51 states, this may not be significant. We will experiment with cluster counts from 3 to 7 and choose the one with the highest silhouette score, for each year of data we have. _We will consider renewables as a combined category, so their scale approaches that of fossil fuels._"
   ]
  },
  {
   "cell_type": "markdown",
   "metadata": {},
   "source": [
    "### By Year and Best Silhouette score"
   ]
  },
  {
   "cell_type": "code",
   "execution_count": null,
   "metadata": {
    "scrolled": false
   },
   "outputs": [],
   "source": [
    "k_list = []        # we will accumulate each year's cluster count in this list\n",
    "cl_lab_list = []   # we will accumulate each state's cluster labed, for each year, in this list\n",
    "\n",
    "for year in range(1990, 2019):\n",
    "    scores = []    # this list is for accumulating year, cluster count, and silhouette score\n",
    "    \n",
    "    # We will feed KMeans one year at a time of states with their generation profiles, with State as index\n",
    "    X = dfg[(dfg['Year'] == year)][ren_cols].set_index(dfg['State'].iloc[0:51].values)\n",
    "    \n",
    "    for k in range(3, 8):  # we will evaluate 3-7 clusters, and choose the one with highest silhouette score\n",
    "        cl = KMeans(n_clusters=k, random_state = 123)\n",
    "        cl.fit(X)\n",
    "        sil = silhouette_score(X, cl.labels_)\n",
    "        scores.append([year, k, sil]) # add the year, cluster count, and silhouette score to the list\n",
    "        score_df = pd.DataFrame(scores)  # createa a dataframe of scores\n",
    "        score_df.columns = ['year', 'k', 'silhouette']  # name the columns\n",
    "        \n",
    "    # for each year, choose the cluster count corresponding to the highest silhouette score\n",
    "    best_k = score_df.nlargest(n=1, columns='silhouette')['k'].values[0] \n",
    " \n",
    "    k_list.extend([best_k]*51)  # record the cluster count w/ highest silhouette score in each state's row\n",
    "                                # multiply by 51 to record the same cluster count in all rows for the year\n",
    "    \n",
    "    # instantiate and fit the model with the optimal cluster count, and record each state's cluster membership\n",
    "    cl = KMeans(n_clusters=best_k, random_state = 123)  \n",
    "    cl.fit(X)\n",
    "    cl_lab_list.extend(cl.labels_)\n",
    "    \n",
    "    ### Uncomment the line below to see each year's highest-silhouette score cluster count\n",
    "    # print(f\"{year}'s best cluster count is {best_k}.\")\n",
    "    \n",
    "dfg['km_count'] = k_list  # add a column to the main dataframe with cluster count\n",
    "dfg['k_cluster'] = cl_lab_list # add a column to the main dataframe with cluster membership"
   ]
  },
  {
   "cell_type": "markdown",
   "metadata": {},
   "source": [
    "### Cluster Count by Year"
   ]
  },
  {
   "cell_type": "code",
   "execution_count": null,
   "metadata": {
    "scrolled": false
   },
   "outputs": [],
   "source": [
    "x = dfg['Year'].unique()\n",
    "y = dfg.groupby('Year')['km_count'].mean().values\n",
    "fig, ax = plt.subplots(figsize = (12,8));\n",
    "    \n",
    "ax.scatter(x, y, color='blue', edgecolors='none');\n",
    "ax.set_title(\"K-Means Cluster Count by Year\", fontsize=28);\n",
    "ax.set_xlabel(\"Year\", size=24);\n",
    "ax.set_ylabel(\"Cluster Count\", size=24);\n",
    "plt.yticks(fontsize=20);\n",
    "major_ticks = np.arange(0, 11, 1)\n",
    "ax.set_yticks(major_ticks)\n",
    "plt.xticks(fontsize=12);"
   ]
  },
  {
   "cell_type": "markdown",
   "metadata": {},
   "source": [
    "**Interpretation:** A trend of fewer clusters over time is clear. By comparing the 1990 clusters with 2018, and tracing which two clusters consistently no longer appear, we can get a sense of electricity generation trends over time. The changes in the K-Means clustering results are the story of the decline of coal, the rise of natural gas, and the diversification of generation profiles across the nation.\n",
    "\n",
    "In 1990, there is a cluster of 5 states whose generation profile is over 50% nuclear: Connecticut, Illinois, New Jersey, South Carolina, and Vermont. By 2018, of these 5 states, only South Carolina remains with >50% nuclear. In 2018, the nuclear cluster has vanished, and a more diversified South Carolina clusters with a group of states whose overall profile is mixed. South Carolina's profile now includes around 22% natural gas, as opposed to around 1% in 1990. \n",
    "\n",
    "Also, in 1990 there are two separate clusters that are coal-dominant. One is a cluster of 14 states whose generation profile is overwhelmingly coal, and another of 16 coal-heavy states but with a mix of nuclear or hydro. Of these 30 states in 1990, 26 get more than 50% of their generation from coal. By 2018, only one coal-dominant cluster of 16 states is identified, and of those only 8 get more than 50% of their energy from coal. "
   ]
  },
  {
   "cell_type": "markdown",
   "metadata": {},
   "source": [
    "## DBSCAN"
   ]
  },
  {
   "cell_type": "markdown",
   "metadata": {},
   "source": [
    "DBSCAN offers the benefit of being less sensitive to initial conditions, and it does not require us to choose the cluster size. However it does not perform well with clusters of varying density, and it requires us to choose two parameters, epsilon and minimum samples. We will experiment with epsilon from .01 to 1.0, and we will require a minimum of 3 samples to constitute a cluster."
   ]
  },
  {
   "cell_type": "code",
   "execution_count": null,
   "metadata": {},
   "outputs": [],
   "source": [
    "# this function will allow us to get a count of DBSCAN outliers\n",
    "def count_of_first(myarray):\n",
    "    mylist = list(myarray)\n",
    "    mylist.sort()\n",
    "    return [len(list(group)) for key, group in groupby(mylist)][0]"
   ]
  },
  {
   "cell_type": "code",
   "execution_count": null,
   "metadata": {
    "scrolled": false
   },
   "outputs": [],
   "source": [
    "db_list = []      # to hold each year's optimal DBSCAN labels count, which is clusters + 1 for outliers \n",
    "db_lab_list = []  # to hold each state's DBSCAN label\n",
    "outlier_list = [] # to hold each year's DBSCAN outlier count, so we can evaluate DBSCAN's performance\n",
    "\n",
    "for year in range(1990, 2019):\n",
    "    scores = []   # this will hold 100 possible epsilon values and the resulting DBVSCAN labels\n",
    "                  # and silhouette score which we'll use to choose the optimal epsilon for each year\n",
    "    \n",
    "    # we will use the combined renewables column rather than 5 separate renewable generation sources\n",
    "    # otherwise, renewables are unlikley to have a significant impact\n",
    "    X = dfg[(dfg['Year'] == year)][ren_cols].set_index(dfg['State'].iloc[0:51].values)\n",
    "    \n",
    "    for i in range(1,101):\n",
    "        eps=i/100  # testing with epsilon .01, .02, .03 .... 1.0\n",
    "        dbscan = DBSCAN(eps=eps, min_samples=3)\n",
    "        dbscan.fit(X)\n",
    "        db_labs = set(dbscan.labels_) # isolate our DBSCAN labels\n",
    "        db_labs_count = len(db_labs)  # find out how many DBSCAN labels this epsilon resulted in\n",
    "        if len(set(dbscan.labels_)) < 4:  \n",
    "            continue                 # 4 labels = 3 clusters plus outliers, unlikely to provide insights\n",
    "                                     # so we will set a limit of at least 3 clusters plus outliers\n",
    "                \n",
    "        sil = silhouette_score(X, dbscan.labels_) # we will use silhouette score to evaluate \n",
    "                                                  # each of our epsilon scores, highest will win\n",
    "        \n",
    "        scores.append([year, eps, db_labs,  # accumulate year epsilon, DBSCAN label for each state,\n",
    "                       db_labs_count, sil]) # count of DBSCAN labels, and silhouette score\n",
    "        \n",
    "        score_df = pd.DataFrame(scores)      # creating a dataframe to hold our scoring data\n",
    "        score_df.columns = ['year', 'eps', 'DBSCAN labels',  # give the dataframe column names\n",
    "                            'DBSCAN label count','silhouette']\n",
    "    \n",
    "    # score_df now has all the year's possible epsilon scores\n",
    "    # here we'll extract the epsilon and count of DBSCAN labels with the highest epsilon score\n",
    "    best_eps = score_df.nlargest(n=1, columns='silhouette')['eps'].values[0]\n",
    "    best_labels_count = score_df.nlargest(n=1, columns='silhouette')['DBSCAN label count'].values[0]\n",
    "    \n",
    "    db_list.extend([best_labels_count] * 51) # the best labels count is identical for every state, each year\n",
    "    dbscan = DBSCAN(eps=best_eps, min_samples=3)    \n",
    "    dbscan.fit(X)\n",
    "    outlier_count = count_of_first(dbscan.labels_) # get our outlier count via the function we created above\n",
    "    \n",
    "    ### The code below will add a long printout of each years' DBSCAN parameters ###\n",
    "    #print(f\"{year}'s best epsilon: {best_eps}. DBSCAN label count is: {best_labels_count}. Cluster count is {best_labels_count - 1}. Outlier count: {outlier_count}.\")\n",
    "    \n",
    "    db_lab_list.extend(dbscan.labels_) # accumulate each state's DBSCAN label for the year\n",
    "    outlier_list.extend([outlier_count] * 51) # outlier count is identical for every state, each year\n",
    "\n",
    "dfg['DB_label_count'] = db_list # append label count to our df as a column\n",
    "dfg['DB_cluster'] = db_lab_list # append each state's DBSCAN cluster label to our df as a column\n",
    "dfg['DB_outlier_count'] = outlier_list # append the outlier count to our df as a column"
   ]
  },
  {
   "cell_type": "markdown",
   "metadata": {},
   "source": [
    "In the dataframe, the added columns for K-Means and DBSCAN output can be seen at the far right:"
   ]
  },
  {
   "cell_type": "code",
   "execution_count": null,
   "metadata": {
    "scrolled": false
   },
   "outputs": [],
   "source": [
    "dfg.head()"
   ]
  },
  {
   "cell_type": "code",
   "execution_count": null,
   "metadata": {
    "scrolled": false
   },
   "outputs": [],
   "source": [
    "x = dfg['Year'].unique()\n",
    "y = dfg.groupby('Year')['DB_label_count'].mean().values - 1\n",
    "fig, ax = plt.subplots(figsize = (12,8));\n",
    "    \n",
    "ax.scatter(x, y, color='blue', edgecolors='none');\n",
    "ax.set_title(\"DBSCAN Cluster Count by Year\", fontsize=28);\n",
    "ax.set_xlabel(\"Year\", size=24);\n",
    "ax.set_ylabel(\"Cluster Count\", size=24);\n",
    "plt.yticks(fontsize=20);\n",
    "major_ticks = np.arange(0, 8, 1)\n",
    "ax.set_yticks(major_ticks)\n",
    "plt.xticks(fontsize=12);"
   ]
  },
  {
   "cell_type": "code",
   "execution_count": null,
   "metadata": {
    "scrolled": false
   },
   "outputs": [],
   "source": [
    "x = dfg['Year'].unique()\n",
    "y = dfg.groupby('Year')['DB_outlier_count'].mean().values\n",
    "fig, ax = plt.subplots(figsize = (12,8));\n",
    "    \n",
    "ax.scatter(x, y, color='blue', edgecolors='none');\n",
    "ax.set_title(\"DBSCAN Outlier Count by Year\", fontsize=28);\n",
    "ax.set_xlabel(\"Year\", size=24);\n",
    "ax.set_ylabel(\"Cluster Count\", size=24);\n",
    "plt.yticks(fontsize=20);\n",
    "major_ticks = np.arange(0, 30, 5)\n",
    "ax.set_yticks(major_ticks)\n",
    "plt.xticks(fontsize=12);"
   ]
  },
  {
   "cell_type": "markdown",
   "metadata": {},
   "source": [
    "**Interpretation:** DBSCAN consistently identifies 3 clusters, with only one interruption, from 1990 until 2010. These three consistently appearing clusters constitute: states with signficant natural gas generation; states whose generation is mostly renewable (hydro, in this case); and states with a significant amount of either coal, nuclear, or both, with one exception (Maine) whose profile is mixed nuclear and hydro. "
   ]
  },
  {
   "cell_type": "markdown",
   "metadata": {},
   "source": [
    "# Visualizing Clusters"
   ]
  },
  {
   "cell_type": "markdown",
   "metadata": {},
   "source": [
    "With our two clustering algorithms' data recorded we can now visualize states by year, algorithm, and cluster membership, and we can choose to display renewables as one overall category, or to view the 5 constituent renewable categories separately. The function below will simplify the visualization process."
   ]
  },
  {
   "cell_type": "markdown",
   "metadata": {},
   "source": [
    "## KMeans Cluster Visualization"
   ]
  },
  {
   "cell_type": "code",
   "execution_count": null,
   "metadata": {},
   "outputs": [],
   "source": [
    "def km_viz(year, k_cluster, cols, plot_type=\"stack\"):\n",
    "    \n",
    "    # select all states by year and KMeans cluster\n",
    "    km_states = list(dfg[(dfg['Year'] == year) & (dfg['k_cluster'] == k_cluster)]['State'].values)\n",
    "    \n",
    "    if plot_type == \"stack\":\n",
    "        stackplots(dfg, km_states, cols)\n",
    "    elif plot_type == \"bar\":\n",
    "        barplots(dfg, km_states, cols, year)"
   ]
  },
  {
   "cell_type": "code",
   "execution_count": null,
   "metadata": {
    "scrolled": true
   },
   "outputs": [],
   "source": [
    "km_viz(1994, 3, \"ren_cols\", \"bar\")"
   ]
  },
  {
   "cell_type": "markdown",
   "metadata": {},
   "source": [
    "**Interpretation:** K-Means clustering identifies the petroleum-dependent states of DC and HI as a distinct cluster. In later years of our analysis DC replaces petroleum with natural gas and biomass. K-Means continues to identify Hawaii as its own unique cluster of one, still dependent on petroleum, transported at great cost by boat. This explains Hawaii's highest-in-the-nation electricity rates, as well as their progressive Renewable Portfolio Standard (RPS) of 100% by 2045, with interim RPS requirements of 30% by 2020, 40% by 2030, and 70% by 2040,"
   ]
  },
  {
   "cell_type": "markdown",
   "metadata": {},
   "source": [
    "## DBSCAN Cluster Visualization"
   ]
  },
  {
   "cell_type": "code",
   "execution_count": null,
   "metadata": {},
   "outputs": [],
   "source": [
    "def db_viz(year, db_cluster, cols, plot_type=\"stack\"):\n",
    "    \n",
    "    # select all states by year and DBSCAN cluster assignment, including outliers as -1\n",
    "    db_states = list(dfg[(dfg['Year'] == year) & (dfg['DB_cluster'] == db_cluster)]['State'].values)\n",
    "    \n",
    "    if plot_type == \"stack\":\n",
    "        stackplots(dfg, db_states, cols)\n",
    "    elif plot_type == \"bar\":\n",
    "        barplots(dfg, db_states, cols, year)"
   ]
  },
  {
   "cell_type": "code",
   "execution_count": null,
   "metadata": {
    "scrolled": false
   },
   "outputs": [],
   "source": [
    "db_viz(2003, 1, \"ren_cols\", \"bar\")"
   ]
  },
  {
   "cell_type": "markdown",
   "metadata": {},
   "source": [
    "**Interpretation:** DBSCAN identifies this cluster of nuclear-heavy generation profile states, with additional coal, gas, petroleum, and renewable, in 2003. In most other years, DBSCAN identified these states and their generation profile type as outliers and did not assign them to a cluster at all. \n",
    "\n",
    "Overall DBSCAN is less consistent than K-Means clustering for our particular dataset. It makes more sense to force all states to be part of a cluster, as K-Means does, than to allow some to be identified as outliers. "
   ]
  },
  {
   "cell_type": "markdown",
   "metadata": {},
   "source": [
    "# Electricity Rates and Generation Profile"
   ]
  },
  {
   "cell_type": "markdown",
   "metadata": {},
   "source": [
    "There are challenges when approaching electricity rates with machine learning, in the context of our dataset. We have only 29 years of data to work with, for too short a time to identify cyclic trends. However plotting standardized electricity rates over the stackplot will allow a visual analysis."
   ]
  },
  {
   "cell_type": "markdown",
   "metadata": {},
   "source": [
    "## Visualization function"
   ]
  },
  {
   "cell_type": "code",
   "execution_count": null,
   "metadata": {},
   "outputs": [],
   "source": [
    "def stack_rate(dataframe, state, columns, figsize1, figsize2):\n",
    "    \n",
    "    x = list(dataframe['Year'].unique())\n",
    "    fig, ax = plt.subplots(figsize = (figsize1, figsize2))\n",
    "    \n",
    "    if columns == \"gen_cols\":\n",
    "        y = dataframe[dataframe['State'] == state].iloc[:, 2:13].T.values.tolist()\n",
    "        ax.stackplot(x, y, labels=gen_cols, colors=gen_colors)\n",
    "    else:\n",
    "        y = dataframe[dataframe['State'] == state].iloc[:, np.r_[2:8,13]].T.values.tolist()        \n",
    "        ax.stackplot(x, y, labels=ren_cols, colors=ren_colors)\n",
    "    \n",
    "    y_list = []\n",
    "    for year in x:\n",
    "        y_list.append((float(dfg.loc[(dfg['State']== state) & (dfg['Year'] == year)]['Cents_kWh']) / dfg[dfg['State']==state]['Cents_kWh'].mean())-0.5)\n",
    "    ax.plot(x, y_list, color='red', linewidth=5)\n",
    "    ax.axhline(0.5, 0.05, 0.95)\n",
    "    \n",
    "    handles, labels = ax.get_legend_handles_labels()\n",
    "    red_patch = mpatches.Patch(color='red')\n",
    "    handles.insert(0, red_patch)\n",
    "    labels.insert(0, \"Rates\")\n",
    "    ax.legend(reversed(handles), reversed(labels), loc='upper left', bbox_to_anchor=(1, 1), prop={'size':16})\n",
    "    ax.set_title(\"{} Electricity Generation with Rates from 1990-2018\".format(state), fontsize=28)\n",
    "    ax.set_xlabel(\"Year\", size=24)\n",
    "    ax.set_ylabel(\"Generation Source Fraction\", size=24)\n",
    "    plt.yticks(fontsize=20)\n",
    "    plt.xticks(fontsize=20)\n",
    "    plt.box(on=None)"
   ]
  },
  {
   "cell_type": "markdown",
   "metadata": {},
   "source": [
    "## Close Look at Select States"
   ]
  },
  {
   "cell_type": "code",
   "execution_count": null,
   "metadata": {},
   "outputs": [],
   "source": [
    "stack_rate(dfg, \"IA\", \"gen_cols\", 12, 9)"
   ]
  },
  {
   "cell_type": "markdown",
   "metadata": {},
   "source": [
    "**Interpretation:** The thin red line represents the average, inflation-adjusted retail electricity rate for the state over the 1990-2018 time period. The thicker red line represents electricity rates for that year relative to the average. For Iowa, a state with a fairly straightforward trade of coal for wind generation, starting around 1995, the relationship between increasing renewable generation and retail rates is not clear. "
   ]
  },
  {
   "cell_type": "code",
   "execution_count": null,
   "metadata": {},
   "outputs": [],
   "source": [
    "stack_rate(dfg, \"DC\", \"gen_cols\", 18, 12)"
   ]
  },
  {
   "cell_type": "markdown",
   "metadata": {},
   "source": [
    "**Interpretation:** Washington, DC replaced petroleum generation with biomass and natural gas startig in 2010. The spike in electricity rates is likely due to the concomitant spike in oil prices which happened in the late 2000's. Here is a clear case where retail electricity rates declined as the renewable transition took hold. "
   ]
  },
  {
   "cell_type": "code",
   "execution_count": null,
   "metadata": {},
   "outputs": [],
   "source": [
    "stack_rate(dfg, \"NY\", \"gen_cols\", 18, 12)"
   ]
  },
  {
   "cell_type": "markdown",
   "metadata": {},
   "source": [
    "**Interpretation:** New York state's electricity rates could be said to fall as petroleum and coal generation decline and natural gas, nuclear, and wind increase. It is unlikely the relatively small wind component has the impact that other generation sources do. If wind were inherently expensive to integrate into the grid, we would see an outsize impact in Iowa's rates, which we do not."
   ]
  }
 ],
 "metadata": {
  "kernelspec": {
   "display_name": "Python 3",
   "language": "python",
   "name": "python3"
  },
  "language_info": {
   "codemirror_mode": {
    "name": "ipython",
    "version": 3
   },
   "file_extension": ".py",
   "mimetype": "text/x-python",
   "name": "python",
   "nbconvert_exporter": "python",
   "pygments_lexer": "ipython3",
   "version": "3.7.4"
  },
  "toc": {
   "base_numbering": 1,
   "nav_menu": {},
   "number_sections": true,
   "sideBar": true,
   "skip_h1_title": false,
   "title_cell": "Table of Contents",
   "title_sidebar": "Contents",
   "toc_cell": false,
   "toc_position": {
    "height": "calc(100% - 180px)",
    "left": "10px",
    "top": "150px",
    "width": "288px"
   },
   "toc_section_display": true,
   "toc_window_display": true
  }
 },
 "nbformat": 4,
 "nbformat_minor": 2
}
